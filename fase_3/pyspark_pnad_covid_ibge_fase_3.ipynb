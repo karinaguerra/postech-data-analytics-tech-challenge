{
  "nbformat": 4,
  "nbformat_minor": 0,
  "metadata": {
    "colab": {
      "provenance": []
    },
    "kernelspec": {
      "name": "python3",
      "display_name": "Python 3"
    },
    "language_info": {
      "name": "python"
    }
  },
  "cells": [
    {
      "cell_type": "markdown",
      "source": [
        "# Analise inicial utilizando pyspark e findspark"
      ],
      "metadata": {
        "id": "Am3KXke9Bf4z"
      }
    },
    {
      "cell_type": "code",
      "source": [
        "!pip install pyspark\n",
        "!pip install findspark"
      ],
      "metadata": {
        "colab": {
          "base_uri": "https://localhost:8080/"
        },
        "id": "TiKL85rBBBBR",
        "outputId": "31b64469-2809-42f0-c4d5-6e290eff75be"
      },
      "execution_count": null,
      "outputs": [
        {
          "output_type": "stream",
          "name": "stdout",
          "text": [
            "Collecting pyspark\n",
            "  Downloading pyspark-3.5.1.tar.gz (317.0 MB)\n",
            "\u001b[2K     \u001b[90m━━━━━━━━━━━━━━━━━━━━━━━━━━━━━━━━━━━━━━━━\u001b[0m \u001b[32m317.0/317.0 MB\u001b[0m \u001b[31m3.0 MB/s\u001b[0m eta \u001b[36m0:00:00\u001b[0m\n",
            "\u001b[?25h  Preparing metadata (setup.py) ... \u001b[?25l\u001b[?25hdone\n",
            "Requirement already satisfied: py4j==0.10.9.7 in /usr/local/lib/python3.10/dist-packages (from pyspark) (0.10.9.7)\n",
            "Building wheels for collected packages: pyspark\n",
            "  Building wheel for pyspark (setup.py) ... \u001b[?25l\u001b[?25hdone\n",
            "  Created wheel for pyspark: filename=pyspark-3.5.1-py2.py3-none-any.whl size=317488491 sha256=1f1a752fc956f800243ed13f047d4b17897117f5f02d1a62d9adf10eb3bc507e\n",
            "  Stored in directory: /root/.cache/pip/wheels/80/1d/60/2c256ed38dddce2fdd93be545214a63e02fbd8d74fb0b7f3a6\n",
            "Successfully built pyspark\n",
            "Installing collected packages: pyspark\n",
            "Successfully installed pyspark-3.5.1\n",
            "Collecting findspark\n",
            "  Downloading findspark-2.0.1-py2.py3-none-any.whl (4.4 kB)\n",
            "Installing collected packages: findspark\n",
            "Successfully installed findspark-2.0.1\n"
          ]
        }
      ]
    },
    {
      "cell_type": "code",
      "execution_count": null,
      "metadata": {
        "id": "xoG8Fn6P-YP6"
      },
      "outputs": [],
      "source": [
        "import findspark\n",
        "findspark.init()\n",
        "from pyspark.sql import SparkSession\n",
        "spark = SparkSession.builder.master(\"local[*]\").getOrCreate()"
      ]
    },
    {
      "cell_type": "code",
      "source": [
        "df = spark.sql('''select 'OK' as Status''')\n",
        "df.show()"
      ],
      "metadata": {
        "colab": {
          "base_uri": "https://localhost:8080/"
        },
        "id": "Q1CENexVCvHb",
        "outputId": "34876b4a-c2ec-48a1-8d8e-31568c7ca0ed"
      },
      "execution_count": null,
      "outputs": [
        {
          "output_type": "stream",
          "name": "stdout",
          "text": [
            "+------+\n",
            "|Status|\n",
            "+------+\n",
            "|    OK|\n",
            "+------+\n",
            "\n"
          ]
        }
      ]
    },
    {
      "cell_type": "markdown",
      "source": [
        "## Manipulação de dados usando spark"
      ],
      "metadata": {
        "id": "DdMr72cWDz_L"
      }
    },
    {
      "cell_type": "code",
      "source": [
        "from pyspark.sql import Row, DataFrame\n",
        "from pyspark.sql.types import StringType, StructType, StructField, IntegerType, FloatType\n",
        "from pyspark.sql.functions import col, expr, lit, substring, concat, concat_ws, when, coalesce\n",
        "from pyspark.sql import functions as F\n",
        "import pyspark.sql.types as T\n",
        "from functools import reduce\n",
        "from typing import List"
      ],
      "metadata": {
        "id": "o0lBIJpbR45H"
      },
      "execution_count": null,
      "outputs": []
    },
    {
      "cell_type": "code",
      "source": [
        "df = spark.read.csv('/content/drive/MyDrive/PosTech_Analise_de_dados/FASE3/tech_challenge_3/dados/df_covid.csv', sep = ',', inferSchema=True, header=True)\n",
        "\n",
        "print('df.count  :', df.count())\n",
        "print('df.col ct :', len(df.columns))\n",
        "print('df.columns:', df.columns)"
      ],
      "metadata": {
        "colab": {
          "base_uri": "https://localhost:8080/"
        },
        "id": "ClztEDRqD91z",
        "outputId": "2f906cfe-4150-4d80-8ef9-42d2baeeda4a"
      },
      "execution_count": null,
      "outputs": [
        {
          "output_type": "stream",
          "name": "stdout",
          "text": [
            "df.count  : 1149197\n",
            "df.col ct : 52\n",
            "df.columns: ['uf', 'idade', 'sexo', 'cor', 'escolaridade', 'ensino_publico_privado', 'frequentou_escola', 'tipo_moradia', 'situacao_domiciliar', 'rendimento', 'restringiu_contato_fisico', 'febre', 'tosse', 'dor_garganta', 'dificuldade_respirar', 'dor_cabeca', 'dor_peito', 'nausea', 'nariz_entupido', 'fadiga', 'dor_olhos', 'perda_olfato_paladar', 'dor_muscular', 'diarreia', 'ida_unidade_saude', 'hospital_publico', 'hospital_privado', 'posto_publico', 'ambulatorio_privado', 'pronto_socorro_publico', 'pronto_socorro_privado', 'fez_teste', 'teste_swab', 'resultado_swab', 'teste_sangue_dedo', 'resultado_sangue_dedo', 'teste_sangue_coleta', 'resultado_sangue_coleta', 'diagnostico_diabetes', 'diagnostico_hipertensao', 'diagnostico_doenca_pulmao', 'diagnostico_doenca_cardiaca', 'diagnostico_depressao', 'diagnostico_cancer', 'afastado_trabalho', 'motivo_do_afastamento', 'remunerado_continua', 'mais_de_um_trabalho', 'tipo_trabalho', 'horas_trabalho_normal', 'trabalho_remoto_semana_passada', 'regiao']\n"
          ]
        }
      ]
    },
    {
      "cell_type": "code",
      "source": [
        "df.printSchema()"
      ],
      "metadata": {
        "colab": {
          "base_uri": "https://localhost:8080/"
        },
        "id": "uyMNpIoPXMXy",
        "outputId": "0bf0af0e-85b7-474a-8ad9-c29373f18b1a"
      },
      "execution_count": null,
      "outputs": [
        {
          "output_type": "stream",
          "name": "stdout",
          "text": [
            "root\n",
            " |-- uf: string (nullable = true)\n",
            " |-- idade: integer (nullable = true)\n",
            " |-- sexo: string (nullable = true)\n",
            " |-- cor: string (nullable = true)\n",
            " |-- escolaridade: string (nullable = true)\n",
            " |-- ensino_publico_privado: string (nullable = true)\n",
            " |-- frequentou_escola: string (nullable = true)\n",
            " |-- tipo_moradia: string (nullable = true)\n",
            " |-- situacao_domiciliar: string (nullable = true)\n",
            " |-- rendimento: string (nullable = true)\n",
            " |-- restringiu_contato_fisico: string (nullable = true)\n",
            " |-- febre: string (nullable = true)\n",
            " |-- tosse: string (nullable = true)\n",
            " |-- dor_garganta: string (nullable = true)\n",
            " |-- dificuldade_respirar: string (nullable = true)\n",
            " |-- dor_cabeca: string (nullable = true)\n",
            " |-- dor_peito: string (nullable = true)\n",
            " |-- nausea: string (nullable = true)\n",
            " |-- nariz_entupido: string (nullable = true)\n",
            " |-- fadiga: string (nullable = true)\n",
            " |-- dor_olhos: string (nullable = true)\n",
            " |-- perda_olfato_paladar: string (nullable = true)\n",
            " |-- dor_muscular: string (nullable = true)\n",
            " |-- diarreia: string (nullable = true)\n",
            " |-- ida_unidade_saude: string (nullable = true)\n",
            " |-- hospital_publico: string (nullable = true)\n",
            " |-- hospital_privado: string (nullable = true)\n",
            " |-- posto_publico: string (nullable = true)\n",
            " |-- ambulatorio_privado: string (nullable = true)\n",
            " |-- pronto_socorro_publico: string (nullable = true)\n",
            " |-- pronto_socorro_privado: string (nullable = true)\n",
            " |-- fez_teste: string (nullable = true)\n",
            " |-- teste_swab: string (nullable = true)\n",
            " |-- resultado_swab: string (nullable = true)\n",
            " |-- teste_sangue_dedo: string (nullable = true)\n",
            " |-- resultado_sangue_dedo: string (nullable = true)\n",
            " |-- teste_sangue_coleta: string (nullable = true)\n",
            " |-- resultado_sangue_coleta: string (nullable = true)\n",
            " |-- diagnostico_diabetes: string (nullable = true)\n",
            " |-- diagnostico_hipertensao: string (nullable = true)\n",
            " |-- diagnostico_doenca_pulmao: string (nullable = true)\n",
            " |-- diagnostico_doenca_cardiaca: string (nullable = true)\n",
            " |-- diagnostico_depressao: string (nullable = true)\n",
            " |-- diagnostico_cancer: string (nullable = true)\n",
            " |-- afastado_trabalho: string (nullable = true)\n",
            " |-- motivo_do_afastamento: string (nullable = true)\n",
            " |-- remunerado_continua: string (nullable = true)\n",
            " |-- mais_de_um_trabalho: string (nullable = true)\n",
            " |-- tipo_trabalho: string (nullable = true)\n",
            " |-- horas_trabalho_normal: double (nullable = true)\n",
            " |-- trabalho_remoto_semana_passada: string (nullable = true)\n",
            " |-- regiao: string (nullable = true)\n",
            "\n"
          ]
        }
      ]
    },
    {
      "cell_type": "code",
      "source": [
        "# resultado de testagem por região\n",
        "df.createOrReplaceTempView('testagem_regiao')\n",
        "\n",
        "testagem_regiao = spark.sql('''\n",
        "    SELECT regiao, resultado_swab, resultado_sangue_dedo, resultado_sangue_coleta, count(resultado_sangue_coleta) as total\n",
        "    FROM testagem_regiao\n",
        "    WHERE resultado_swab != 'nao aplicavel' OR\n",
        "        resultado_sangue_dedo != 'nao aplicavel' OR\n",
        "        resultado_sangue_coleta != 'nao aplicavel'\n",
        "    GROUP BY regiao, resultado_swab, resultado_sangue_dedo, resultado_sangue_coleta\n",
        "    ORDER BY regiao, resultado_swab, resultado_sangue_dedo, resultado_sangue_coleta\n",
        "''')\n",
        "\n",
        "testagem_regiao.show()"
      ],
      "metadata": {
        "colab": {
          "base_uri": "https://localhost:8080/"
        },
        "id": "PQkumE5OPnrj",
        "outputId": "714fe521-6250-4334-d7c7-db1cf25cb0c5"
      },
      "execution_count": null,
      "outputs": [
        {
          "output_type": "stream",
          "name": "stdout",
          "text": [
            "+------------+--------------+---------------------+-----------------------+-----+\n",
            "|      regiao|resultado_swab|resultado_sangue_dedo|resultado_sangue_coleta|total|\n",
            "+------------+--------------+---------------------+-----------------------+-----+\n",
            "|centro-oeste|  inconclusivo|         inconclusivo|          nao aplicavel|    3|\n",
            "|centro-oeste|  inconclusivo|         inconclusivo|   nao recebeu o res...|    1|\n",
            "|centro-oeste|  inconclusivo|        nao aplicavel|           inconclusivo|    2|\n",
            "|centro-oeste|  inconclusivo|        nao aplicavel|          nao aplicavel|   15|\n",
            "|centro-oeste|  inconclusivo|        nao aplicavel|               negativo|    4|\n",
            "|centro-oeste|  inconclusivo|        nao aplicavel|               positivo|    2|\n",
            "|centro-oeste|  inconclusivo|             negativo|          nao aplicavel|    2|\n",
            "|centro-oeste|  inconclusivo|             negativo|               negativo|    1|\n",
            "|centro-oeste| nao aplicavel|         inconclusivo|           inconclusivo|    1|\n",
            "|centro-oeste| nao aplicavel|         inconclusivo|          nao aplicavel|   22|\n",
            "|centro-oeste| nao aplicavel|         inconclusivo|               negativo|    5|\n",
            "|centro-oeste| nao aplicavel|        nao aplicavel|           inconclusivo|   12|\n",
            "|centro-oeste| nao aplicavel|        nao aplicavel|   nao recebeu o res...|   54|\n",
            "|centro-oeste| nao aplicavel|        nao aplicavel|               negativo| 2705|\n",
            "|centro-oeste| nao aplicavel|        nao aplicavel|               positivo| 1017|\n",
            "|centro-oeste| nao aplicavel| nao recebeu o res...|          nao aplicavel|   20|\n",
            "|centro-oeste| nao aplicavel|             negativo|          nao aplicavel| 4608|\n",
            "|centro-oeste| nao aplicavel|             negativo|               negativo|  344|\n",
            "|centro-oeste| nao aplicavel|             negativo|               positivo|   32|\n",
            "|centro-oeste| nao aplicavel|             positivo|          nao aplicavel|  720|\n",
            "+------------+--------------+---------------------+-----------------------+-----+\n",
            "only showing top 20 rows\n",
            "\n"
          ]
        }
      ]
    },
    {
      "cell_type": "code",
      "source": [
        "df.createOrReplaceTempView('sintomas_total')\n",
        "\n",
        "sintomas = spark.sql('''\n",
        "        SELECT tosse, dor_garganta, dificuldade_respirar, dor_cabeca, dor_peito, nausea, fadiga, dor_olhos, perda_olfato_paladar, dor_muscular, diarreia\n",
        "        FROM sintomas_total\n",
        "        GROUP BY tosse, dor_garganta, dificuldade_respirar, dor_cabeca, dor_peito, nausea, fadiga, dor_olhos, perda_olfato_paladar, dor_muscular, diarreia\n",
        "        ORDER BY tosse, dor_garganta, dificuldade_respirar, dor_cabeca, dor_peito, nausea, fadiga, dor_olhos, perda_olfato_paladar, dor_muscular, diarreia\n",
        "''')\n",
        "sintomas.show()"
      ],
      "metadata": {
        "colab": {
          "base_uri": "https://localhost:8080/"
        },
        "id": "dNrptepbVFeq",
        "outputId": "95edbdfb-b462-40f7-e608-9ceee253e2e5"
      },
      "execution_count": null,
      "outputs": [
        {
          "output_type": "stream",
          "name": "stdout",
          "text": [
            "+--------+------------+--------------------+----------+---------+--------+--------+---------+--------------------+------------+--------+\n",
            "|   tosse|dor_garganta|dificuldade_respirar|dor_cabeca|dor_peito|  nausea|  fadiga|dor_olhos|perda_olfato_paladar|dor_muscular|diarreia|\n",
            "+--------+------------+--------------------+----------+---------+--------+--------+---------+--------------------+------------+--------+\n",
            "|ignorado|    ignorado|            ignorado|  ignorado| ignorado|ignorado|ignorado| ignorado|            ignorado|    ignorado|ignorado|\n",
            "|ignorado|    ignorado|            ignorado|  ignorado| ignorado|ignorado|ignorado| ignorado|            ignorado|        nao |    nao |\n",
            "|ignorado|    ignorado|            ignorado|  ignorado| ignorado|ignorado|ignorado| ignorado|                 sim|    ignorado|ignorado|\n",
            "|ignorado|    ignorado|            ignorado|  ignorado| ignorado|ignorado|ignorado|     nao |            ignorado|    ignorado|ignorado|\n",
            "|ignorado|    ignorado|            ignorado|  ignorado| ignorado|ignorado|    nao |     nao |                 sim|        nao |    nao |\n",
            "|ignorado|    ignorado|            ignorado|  ignorado| ignorado|ignorado|nao sabe| ignorado|            ignorado|    ignorado|ignorado|\n",
            "|ignorado|    ignorado|            ignorado|  ignorado| ignorado|    nao |ignorado| ignorado|            ignorado|    ignorado|ignorado|\n",
            "|ignorado|    ignorado|            ignorado|  ignorado| ignorado|     sim|     sim| ignorado|            ignorado|    ignorado|ignorado|\n",
            "|ignorado|    ignorado|            ignorado|  ignorado|     nao |    nao |    nao |     nao |                nao |        nao |    nao |\n",
            "|ignorado|    ignorado|            ignorado|  ignorado|      sim|ignorado|ignorado| ignorado|            ignorado|    ignorado|ignorado|\n",
            "|ignorado|    ignorado|            ignorado|      nao | ignorado|ignorado|ignorado| ignorado|            ignorado|    ignorado|ignorado|\n",
            "|ignorado|    ignorado|            ignorado|       sim| ignorado|ignorado|ignorado| ignorado|                 sim|    ignorado|ignorado|\n",
            "|ignorado|    ignorado|            ignorado|       sim| ignorado|ignorado|     sim| ignorado|            ignorado|         sim|ignorado|\n",
            "|ignorado|    ignorado|                nao |  ignorado| ignorado|ignorado|ignorado| ignorado|            ignorado|    ignorado|ignorado|\n",
            "|ignorado|    ignorado|                nao |      nao |     nao |    nao |    nao |     nao |                nao |        nao |    nao |\n",
            "|ignorado|    ignorado|                nao |      nao |     nao |    nao |    nao |     nao |                nao |        nao |     sim|\n",
            "|ignorado|    ignorado|                 sim|  ignorado| ignorado|ignorado|ignorado| ignorado|            ignorado|    ignorado|ignorado|\n",
            "|ignorado|        nao |                nao |      nao | ignorado|    nao |    nao |     nao |                nao |        nao |    nao |\n",
            "|ignorado|        nao |                nao |      nao |     nao |    nao |    nao |     nao |                nao |    ignorado|    nao |\n",
            "|ignorado|        nao |                nao |      nao |     nao |    nao |    nao |     nao |                nao |        nao |    nao |\n",
            "+--------+------------+--------------------+----------+---------+--------+--------+---------+--------------------+------------+--------+\n",
            "only showing top 20 rows\n",
            "\n"
          ]
        }
      ]
    },
    {
      "cell_type": "code",
      "source": [
        "sintomas.toPandas().to_csv('/content/drive/MyDrive/PosTech_Analise_de_dados/FASE3/tech_challenge_3/dados/sintomas.csv', index=False)"
      ],
      "metadata": {
        "id": "-ohAmeNbWnnO"
      },
      "execution_count": null,
      "outputs": []
    },
    {
      "cell_type": "code",
      "source": [
        "df.createOrReplaceTempView('sintomas_percentual')\n",
        "\n",
        "# Calcula o total de registros com sintomas\n",
        "total_registros_com_sintomas = spark.sql('''\n",
        "    SELECT COUNT(*) as total\n",
        "    FROM sintomas_percentual\n",
        "    WHERE\n",
        "        tosse != 'ignorado' OR\n",
        "        dor_garganta != 'ignorado' OR\n",
        "        dificuldade_respirar != 'ignorado' OR\n",
        "        dor_cabeca != 'ignorado' OR\n",
        "        dor_peito != 'ignorado' OR\n",
        "        nausea != 'ignorado' OR\n",
        "        fadiga != 'ignorado' OR\n",
        "        dor_olhos != 'ignorado' OR\n",
        "        perda_olfato_paladar != 'ignorado' OR\n",
        "        dor_muscular != 'ignorado' OR\n",
        "        diarreia != 'ignorado'\n",
        "''').collect()[0]['total']\n",
        "\n",
        "# Consulta para calcular o percentual de cada sintoma em relação ao total de registros com sintomas\n",
        "percentuais = spark.sql(f'''\n",
        "    SELECT\n",
        "        SUM(CASE WHEN tosse = 'sim' THEN 1 ELSE 0 END) / {total_registros_com_sintomas} * 100 as percentual_tosse,\n",
        "        SUM(CASE WHEN dor_garganta = 'sim' THEN 1 ELSE 0 END) / {total_registros_com_sintomas} * 100 as percentual_dor_garganta,\n",
        "        SUM(CASE WHEN dificuldade_respirar = 'sim' THEN 1 ELSE 0 END) / {total_registros_com_sintomas} * 100 as percentual_dificuldade_respirar,\n",
        "        SUM(CASE WHEN dor_cabeca = 'sim' THEN 1 ELSE 0 END) / {total_registros_com_sintomas} * 100 as percentual_dor_cabeca,\n",
        "        SUM(CASE WHEN dor_peito = 'sim' THEN 1 ELSE 0 END) / {total_registros_com_sintomas} * 100 as percentual_dor_peito,\n",
        "        SUM(CASE WHEN nausea = 'sim' THEN 1 ELSE 0 END) / {total_registros_com_sintomas} * 100 as percentual_nausea,\n",
        "        SUM(CASE WHEN fadiga = 'sim' THEN 1 ELSE 0 END) / {total_registros_com_sintomas} * 100 as percentual_fadiga,\n",
        "        SUM(CASE WHEN dor_olhos = 'sim' THEN 1 ELSE 0 END) / {total_registros_com_sintomas} * 100 as percentual_dor_olhos,\n",
        "        SUM(CASE WHEN perda_olfato_paladar = 'sim' THEN 1 ELSE 0 END) / {total_registros_com_sintomas} * 100 as percentual_perda_olfato_paladar,\n",
        "        SUM(CASE WHEN dor_muscular = 'sim' THEN 1 ELSE 0 END) / {total_registros_com_sintomas} * 100 as percentual_dor_muscular,\n",
        "        SUM(CASE WHEN diarreia = 'sim' THEN 1 ELSE 0 END) / {total_registros_com_sintomas} * 100 as percentual_diarreia\n",
        "    FROM sintomas\n",
        "''').collect()[0]\n",
        "\n",
        "print(\"Percentual de sintomas positivos:\")\n",
        "print(f\"Tosse: {percentuais['percentual_tosse']:.2f}%\")\n",
        "print(f\"Dor de garganta: {percentuais['percentual_dor_garganta']:.2f}%\")\n",
        "print(f\"Dificuldade respiratória: {percentuais['percentual_dificuldade_respirar']:.2f}%\")\n",
        "print(f\"Dor de cabeça: {percentuais['percentual_dor_cabeca']:.2f}%\")\n",
        "print(f\"Dor no peito: {percentuais['percentual_dor_peito']:.2f}%\")\n",
        "print(f\"Náusea: {percentuais['percentual_nausea']:.2f}%\")\n",
        "print(f\"Fadiga: {percentuais['percentual_fadiga']:.2f}%\")\n",
        "print(f\"Dor nos olhos: {percentuais['percentual_dor_olhos']:.2f}%\")\n",
        "print(f\"Perda de olfato ou paladar: {percentuais['percentual_perda_olfato_paladar']:.2f}%\")\n",
        "print(f\"Dor muscular: {percentuais['percentual_dor_muscular']:.2f}%\")\n",
        "print(f\"Diarreia: {percentuais['percentual_diarreia']:.2f}%\")\n"
      ],
      "metadata": {
        "colab": {
          "base_uri": "https://localhost:8080/"
        },
        "id": "Q7eCsa99RblV",
        "outputId": "4d46d174-acb8-45c5-a3c8-04b0d9e9de6c"
      },
      "execution_count": null,
      "outputs": [
        {
          "output_type": "stream",
          "name": "stdout",
          "text": [
            "Percentual de sintomas positivos:\n",
            "Tosse: 1.34%\n",
            "Dor de garganta: 1.10%\n",
            "Dificuldade respiratória: 0.42%\n",
            "Dor de cabeça: 1.65%\n",
            "Dor no peito: 0.30%\n",
            "Náusea: 0.35%\n",
            "Fadiga: 0.72%\n",
            "Dor nos olhos: 0.32%\n",
            "Perda de olfato ou paladar: 0.39%\n",
            "Dor muscular: 0.95%\n",
            "Diarreia: 0.38%\n"
          ]
        }
      ]
    },
    {
      "cell_type": "code",
      "source": [
        "df.createOrReplaceTempView('sintomas_sexo')\n",
        "\n",
        "sintomas_sexo = spark.sql('''\n",
        "    SELECT sexo, tosse, dor_garganta, dificuldade_respirar, dor_cabeca, dor_peito, nausea, fadiga, dor_olhos, perda_olfato_paladar, dor_muscular, diarreia,\n",
        "        CASE WHEN tosse = 'sim' THEN 1 ELSE 0 END +\n",
        "        CASE WHEN dor_garganta = 'sim' THEN 1 ELSE 0 END +\n",
        "        CASE WHEN dificuldade_respirar = 'sim' THEN 1 ELSE 0 END +\n",
        "        CASE WHEN dor_cabeca = 'sim' THEN 1 ELSE 0 END +\n",
        "        CASE WHEN dor_peito = 'sim' THEN 1 ELSE 0 END +\n",
        "        CASE WHEN nausea = 'sim' THEN 1 ELSE 0 END +\n",
        "        CASE WHEN fadiga = 'sim' THEN 1 ELSE 0 END +\n",
        "        CASE WHEN dor_olhos = 'sim' THEN 1 ELSE 0 END +\n",
        "        CASE WHEN perda_olfato_paladar = 'sim' THEN 1 ELSE 0 END +\n",
        "        CASE WHEN dor_muscular = 'sim' THEN 1 ELSE 0 END +\n",
        "        CASE WHEN diarreia = 'sim' THEN 1 ELSE 0 END AS total_sintomas_positivo\n",
        "    FROM sintomas_sexo\n",
        "        WHERE\n",
        "        (tosse = 'sim' OR\n",
        "        dor_garganta = 'sim' OR\n",
        "        dificuldade_respirar = 'sim' OR\n",
        "        dor_cabeca = 'sim' OR\n",
        "        dor_peito = 'sim' OR\n",
        "        nausea = 'sim' OR\n",
        "        fadiga = 'sim' OR\n",
        "        dor_olhos = 'sim' OR\n",
        "        perda_olfato_paladar = 'sim' OR\n",
        "        dor_muscular = 'sim' OR\n",
        "        diarreia = 'sim') AND\n",
        "        (tosse != 'ignorado' AND\n",
        "        dor_garganta != 'ignorado' AND\n",
        "        dificuldade_respirar != 'ignorado' AND\n",
        "        dor_cabeca != 'ignorado' AND\n",
        "        dor_peito != 'ignorado' AND\n",
        "        nausea != 'ignorado' AND\n",
        "        fadiga != 'ignorado' AND\n",
        "        dor_olhos != 'ignorado' AND\n",
        "        perda_olfato_paladar != 'ignorado' AND\n",
        "        dor_muscular != 'ignorado' AND\n",
        "        diarreia != 'ignorado')\n",
        "    GROUP BY sexo, tosse, dor_garganta, dificuldade_respirar, dor_cabeca, dor_peito, nausea, fadiga, dor_olhos, perda_olfato_paladar, dor_muscular, diarreia\n",
        "    ORDER BY sexo, tosse, dor_garganta, dificuldade_respirar, dor_cabeca, dor_peito, nausea, fadiga, dor_olhos, perda_olfato_paladar, dor_muscular, diarreia\n",
        "''')\n",
        "\n",
        "sintomas_sexo.show()"
      ],
      "metadata": {
        "colab": {
          "base_uri": "https://localhost:8080/"
        },
        "id": "F85vwbZwUEtF",
        "outputId": "b017de30-f73d-4df1-8995-c0d5e6b66e9a"
      },
      "execution_count": null,
      "outputs": [
        {
          "output_type": "stream",
          "name": "stdout",
          "text": [
            "+-----+-----+------------+--------------------+----------+---------+------+------+---------+--------------------+------------+--------+-----------------------+\n",
            "| sexo|tosse|dor_garganta|dificuldade_respirar|dor_cabeca|dor_peito|nausea|fadiga|dor_olhos|perda_olfato_paladar|dor_muscular|diarreia|total_sintomas_positivo|\n",
            "+-----+-----+------------+--------------------+----------+---------+------+------+---------+--------------------+------------+--------+-----------------------+\n",
            "|homem| nao |        nao |                nao |      nao |     nao |  nao |  nao |     nao |                nao |        nao |     sim|                      1|\n",
            "|homem| nao |        nao |                nao |      nao |     nao |  nao |  nao |     nao |                nao |         sim|    nao |                      1|\n",
            "|homem| nao |        nao |                nao |      nao |     nao |  nao |  nao |     nao |                nao |         sim|     sim|                      2|\n",
            "|homem| nao |        nao |                nao |      nao |     nao |  nao |  nao |     nao |            nao sabe|        nao |     sim|                      1|\n",
            "|homem| nao |        nao |                nao |      nao |     nao |  nao |  nao |     nao |                 sim|        nao |    nao |                      1|\n",
            "|homem| nao |        nao |                nao |      nao |     nao |  nao |  nao |     nao |                 sim|        nao |     sim|                      2|\n",
            "|homem| nao |        nao |                nao |      nao |     nao |  nao |  nao |     nao |                 sim|         sim|    nao |                      2|\n",
            "|homem| nao |        nao |                nao |      nao |     nao |  nao |  nao |     nao |                 sim|         sim|     sim|                      3|\n",
            "|homem| nao |        nao |                nao |      nao |     nao |  nao |  nao |      sim|                nao |        nao |    nao |                      1|\n",
            "|homem| nao |        nao |                nao |      nao |     nao |  nao |  nao |      sim|                nao |        nao |     sim|                      2|\n",
            "|homem| nao |        nao |                nao |      nao |     nao |  nao |  nao |      sim|                nao |         sim|    nao |                      2|\n",
            "|homem| nao |        nao |                nao |      nao |     nao |  nao |  nao |      sim|                nao |         sim|     sim|                      3|\n",
            "|homem| nao |        nao |                nao |      nao |     nao |  nao |  nao |      sim|                 sim|        nao |    nao |                      2|\n",
            "|homem| nao |        nao |                nao |      nao |     nao |  nao |  nao |      sim|                 sim|        nao |     sim|                      3|\n",
            "|homem| nao |        nao |                nao |      nao |     nao |  nao |  nao |      sim|                 sim|         sim|    nao |                      3|\n",
            "|homem| nao |        nao |                nao |      nao |     nao |  nao |   sim|     nao |                nao |        nao |    nao |                      1|\n",
            "|homem| nao |        nao |                nao |      nao |     nao |  nao |   sim|     nao |                nao |        nao |     sim|                      2|\n",
            "|homem| nao |        nao |                nao |      nao |     nao |  nao |   sim|     nao |                nao |         sim|    nao |                      2|\n",
            "|homem| nao |        nao |                nao |      nao |     nao |  nao |   sim|     nao |                nao |         sim|     sim|                      3|\n",
            "|homem| nao |        nao |                nao |      nao |     nao |  nao |   sim|     nao |                 sim|        nao |    nao |                      2|\n",
            "+-----+-----+------------+--------------------+----------+---------+------+------+---------+--------------------+------------+--------+-----------------------+\n",
            "only showing top 20 rows\n",
            "\n"
          ]
        }
      ]
    },
    {
      "cell_type": "code",
      "source": [
        "# escolaridade por região\n",
        "df.createOrReplaceTempView('escolaridade_regiao')\n",
        "\n",
        "escolaridade_regiao = spark.sql('''\n",
        "    SELECT regiao, escolaridade, count(*) as total_respostas\n",
        "    FROM escolaridade_regiao\n",
        "    GROUP BY regiao, escolaridade\n",
        "    ORDER BY regiao, escolaridade\n",
        "''')\n",
        "\n",
        "escolaridade_regiao.show()"
      ],
      "metadata": {
        "colab": {
          "base_uri": "https://localhost:8080/"
        },
        "id": "YEEAy-oOXH4T",
        "outputId": "c08bc0f1-0c8d-4a15-e7ff-a9bac518ab3c"
      },
      "execution_count": null,
      "outputs": [
        {
          "output_type": "stream",
          "name": "stdout",
          "text": [
            "+------------+--------------------+---------------+\n",
            "|      regiao|        escolaridade|total_respostas|\n",
            "+------------+--------------------+---------------+\n",
            "|centro-oeste|fundamental completa|           7540|\n",
            "|centro-oeste|fundamental incom...|          39172|\n",
            "|centro-oeste|      medio completo|          25668|\n",
            "|centro-oeste|    medio incompleto|          12094|\n",
            "|centro-oeste|pos mestrado dout...|           3995|\n",
            "|centro-oeste|       sem instrucao|          12370|\n",
            "|centro-oeste|   superior completo|          14045|\n",
            "|centro-oeste| superior incompleto|           7589|\n",
            "|    nordeste|fundamental completa|          18387|\n",
            "|    nordeste|fundamental incom...|         133740|\n",
            "|    nordeste|      medio completo|          72196|\n",
            "|    nordeste|    medio incompleto|          34036|\n",
            "|    nordeste|pos mestrado dout...|           6150|\n",
            "|    nordeste|       sem instrucao|          49540|\n",
            "|    nordeste|   superior completo|          22558|\n",
            "|    nordeste| superior incompleto|          14292|\n",
            "|       norte|fundamental completa|           7476|\n",
            "|       norte|fundamental incom...|          47138|\n",
            "|       norte|      medio completo|          33874|\n",
            "|       norte|    medio incompleto|          15126|\n",
            "+------------+--------------------+---------------+\n",
            "only showing top 20 rows\n",
            "\n"
          ]
        }
      ]
    },
    {
      "cell_type": "code",
      "source": [
        "# moradis por região\n",
        "df.createOrReplaceTempView('moradia_regiao')\n",
        "\n",
        "moradia_regiao = spark.sql('''\n",
        "    SELECT regiao, tipo_moradia, count(*) as total_respostas\n",
        "    FROM moradia_regiao\n",
        "    GROUP BY regiao, tipo_moradia\n",
        "    ORDER BY regiao, tipo_moradia\n",
        "''')\n",
        "\n",
        "moradia_regiao.show()"
      ],
      "metadata": {
        "colab": {
          "base_uri": "https://localhost:8080/"
        },
        "id": "yVZ_l2Y3Yj2_",
        "outputId": "c29bbc37-cb52-4a0e-ccd6-ef2e92826c1b"
      },
      "execution_count": null,
      "outputs": [
        {
          "output_type": "stream",
          "name": "stdout",
          "text": [
            "+------------+--------------------+---------------+\n",
            "|      regiao|        tipo_moradia|total_respostas|\n",
            "+------------+--------------------+---------------+\n",
            "|centro-oeste|             alugado|          23454|\n",
            "|centro-oeste|cedido de outra f...|           1600|\n",
            "|centro-oeste|cedido por empreg...|           5802|\n",
            "|centro-oeste|cedido por familiar |           9905|\n",
            "|centro-oeste|      outra condicao|            370|\n",
            "|centro-oeste|proprio_ainda pag...|          10448|\n",
            "|centro-oeste|    proprio_ja pago |          70894|\n",
            "|    nordeste|             alugado|          39577|\n",
            "|    nordeste|cedido de outra f...|           4345|\n",
            "|    nordeste|cedido por empreg...|           3686|\n",
            "|    nordeste|cedido por familiar |          29082|\n",
            "|    nordeste|      outra condicao|           1324|\n",
            "|    nordeste|proprio_ainda pag...|          12012|\n",
            "|    nordeste|    proprio_ja pago |         260873|\n",
            "|       norte|             alugado|          16416|\n",
            "|       norte|cedido de outra f...|           1230|\n",
            "|       norte|cedido por empreg...|           2779|\n",
            "|       norte|cedido por familiar |          10659|\n",
            "|       norte|      outra condicao|            313|\n",
            "|       norte|proprio_ainda pag...|           4421|\n",
            "+------------+--------------------+---------------+\n",
            "only showing top 20 rows\n",
            "\n"
          ]
        }
      ]
    },
    {
      "cell_type": "code",
      "source": [
        "df.createOrReplaceTempView('percentual_horas_trabalho')\n",
        "\n",
        "percentual_horas_trabalho = spark.sql('''\n",
        "    SELECT uf,\n",
        "        ROUND((SUM(CASE WHEN horas_trabalho_normal > 0 THEN 1 ELSE 0 END) / COUNT(*)) * 100, 2) as percentual_horas_trabalho\n",
        "    FROM percentual_horas_trabalho\n",
        "    GROUP BY uf\n",
        "    ORDER BY uf\n",
        "''')\n",
        "\n",
        "percentual_horas_trabalho.show()"
      ],
      "metadata": {
        "colab": {
          "base_uri": "https://localhost:8080/"
        },
        "id": "ZAO494kFe2nS",
        "outputId": "fe3cbe8c-0825-4aa1-b77b-98fb7614e860"
      },
      "execution_count": null,
      "outputs": [
        {
          "output_type": "stream",
          "name": "stdout",
          "text": [
            "+-------------------+-------------------------+\n",
            "|                 uf|percentual_horas_trabalho|\n",
            "+-------------------+-------------------------+\n",
            "|               acre|                    32.75|\n",
            "|            alagoas|                    26.42|\n",
            "|              amapa|                    33.66|\n",
            "|           amazonas|                    33.91|\n",
            "|              bahia|                    32.23|\n",
            "|              ceara|                    29.68|\n",
            "|   distrito federal|                    41.27|\n",
            "|     espirito santo|                    42.37|\n",
            "|              goias|                    43.62|\n",
            "|           maranhao|                    27.15|\n",
            "|        mato grosso|                    43.86|\n",
            "| mato grosso do sul|                    44.61|\n",
            "|       minas gerais|                    40.82|\n",
            "|               para|                    35.61|\n",
            "|            paraiba|                    30.78|\n",
            "|             parana|                    45.23|\n",
            "|         pernambuco|                    32.34|\n",
            "|              piaui|                    30.36|\n",
            "|     rio de janeiro|                    37.11|\n",
            "|rio grande do norte|                    31.63|\n",
            "+-------------------+-------------------------+\n",
            "only showing top 20 rows\n",
            "\n"
          ]
        }
      ]
    },
    {
      "cell_type": "code",
      "source": [
        "df.createOrReplaceTempView('afastamento')\n",
        "\n",
        "afastamento = spark.sql('''\n",
        "    SELECT regiao, afastado_trabalho, motivo_do_afastamento\n",
        "    FROM afastamento\n",
        "      WHERE afastado_trabalho != 'nao aplicavel'\n",
        "    GROUP BY regiao, afastado_trabalho,motivo_do_afastamento\n",
        "    ORDER BY regiao, afastado_trabalho, motivo_do_afastamento\n",
        "''')\n",
        "\n",
        "afastamento.show()"
      ],
      "metadata": {
        "colab": {
          "base_uri": "https://localhost:8080/"
        },
        "id": "C6v2i3JsgVNy",
        "outputId": "444002a2-acd3-4055-b257-92854968d4fc"
      },
      "execution_count": null,
      "outputs": [
        {
          "output_type": "stream",
          "name": "stdout",
          "text": [
            "+------------+-----------------+---------------------+\n",
            "|      regiao|afastado_trabalho|motivo_do_afastamento|\n",
            "+------------+-----------------+---------------------+\n",
            "|centro-oeste|              nao|        nao aplicavel|\n",
            "|centro-oeste|              sim| afastamento sem s...|\n",
            "|centro-oeste|              sim|   fatores ocasionais|\n",
            "|centro-oeste|              sim| ferias ou jornada...|\n",
            "|centro-oeste|              sim| maternidade ou pa...|\n",
            "|centro-oeste|              sim|         outro motivo|\n",
            "|centro-oeste|              sim| outro tipo de lic...|\n",
            "|centro-oeste|              sim| quarentena ou fer...|\n",
            "|centro-oeste|              sim| saude ou acidente...|\n",
            "|    nordeste|              nao|        nao aplicavel|\n",
            "|    nordeste|              sim| afastamento sem s...|\n",
            "|    nordeste|              sim|   fatores ocasionais|\n",
            "|    nordeste|              sim| ferias ou jornada...|\n",
            "|    nordeste|              sim| maternidade ou pa...|\n",
            "|    nordeste|              sim|         outro motivo|\n",
            "|    nordeste|              sim| outro tipo de lic...|\n",
            "|    nordeste|              sim| quarentena ou fer...|\n",
            "|    nordeste|              sim| saude ou acidente...|\n",
            "|       norte|              nao|        nao aplicavel|\n",
            "|       norte|              sim| afastamento sem s...|\n",
            "+------------+-----------------+---------------------+\n",
            "only showing top 20 rows\n",
            "\n"
          ]
        }
      ]
    },
    {
      "cell_type": "code",
      "source": [
        "df.createOrReplaceTempView('rendimento_regiao')\n",
        "\n",
        "rendimento_regiao = spark.sql('''\n",
        "    SELECT regiao, rendimento\n",
        "    FROM rendimento_regiao\n",
        "    GROUP BY regiao, rendimento\n",
        "    ORDER BY regiao, rendimento\n",
        "''')\n",
        "\n",
        "rendimento_regiao.show()"
      ],
      "metadata": {
        "colab": {
          "base_uri": "https://localhost:8080/"
        },
        "id": "KTLOK94OgwMM",
        "outputId": "b30397a3-03f0-46db-e089-288c4ab950e6"
      },
      "execution_count": null,
      "outputs": [
        {
          "output_type": "stream",
          "name": "stdout",
          "text": [
            "+------------+----------------+\n",
            "|      regiao|      rendimento|\n",
            "+------------+----------------+\n",
            "|centro-oeste|         0 a 100|\n",
            "|centro-oeste|   1.601 a 3.000|\n",
            "|centro-oeste| 10.001 a 50.000|\n",
            "|centro-oeste|       101 a 300|\n",
            "|centro-oeste|  3.001 a 10.000|\n",
            "|centro-oeste|       301 a 600|\n",
            "|centro-oeste|50.001 a 100.000|\n",
            "|centro-oeste|       601 a 800|\n",
            "|centro-oeste|     801 a 1.600|\n",
            "|centro-oeste| mais de 100.000|\n",
            "|centro-oeste|   nao aplicavel|\n",
            "|    nordeste|         0 a 100|\n",
            "|    nordeste|   1.601 a 3.000|\n",
            "|    nordeste| 10.001 a 50.000|\n",
            "|    nordeste|       101 a 300|\n",
            "|    nordeste|  3.001 a 10.000|\n",
            "|    nordeste|       301 a 600|\n",
            "|    nordeste|50.001 a 100.000|\n",
            "|    nordeste|       601 a 800|\n",
            "|    nordeste|     801 a 1.600|\n",
            "+------------+----------------+\n",
            "only showing top 20 rows\n",
            "\n"
          ]
        }
      ]
    },
    {
      "cell_type": "code",
      "source": [
        "df.createOrReplaceTempView('restringiu_contato_regiao')\n",
        "\n",
        "restringiu_contato_regiao= spark.sql('''\n",
        "    SELECT regiao, restringiu_contato_fisico, count(*) as total\n",
        "    FROM restringiu_contato_regiao\n",
        "    GROUP BY regiao, restringiu_contato_fisico\n",
        "    ORDER BY regiao, restringiu_contato_fisico\n",
        "''')\n",
        "\n",
        "restringiu_contato_regiao.show()"
      ],
      "metadata": {
        "colab": {
          "base_uri": "https://localhost:8080/"
        },
        "id": "XiOWtp1DiQWY",
        "outputId": "2f7569a4-0e04-4d02-95c5-419ccda0b4c1"
      },
      "execution_count": null,
      "outputs": [
        {
          "output_type": "stream",
          "name": "stdout",
          "text": [
            "+------------+-------------------------+------+\n",
            "|      regiao|restringiu_contato_fisico| total|\n",
            "+------------+-------------------------+------+\n",
            "|centro-oeste|     ficou somente em ...| 15799|\n",
            "|centro-oeste|            nao aplicavel|   759|\n",
            "|centro-oeste|        reduziu o contato| 55568|\n",
            "|centro-oeste|            sem restricao|  4272|\n",
            "|centro-oeste|     so saiu para nece...| 46075|\n",
            "|    nordeste|     ficou somente em ...| 53210|\n",
            "|    nordeste|            nao aplicavel|  1193|\n",
            "|    nordeste|        reduziu o contato|130390|\n",
            "|    nordeste|            sem restricao| 16720|\n",
            "|    nordeste|     so saiu para nece...|149386|\n",
            "|       norte|     ficou somente em ...| 16718|\n",
            "|       norte|            nao aplicavel|  1129|\n",
            "|       norte|        reduziu o contato| 64342|\n",
            "|       norte|            sem restricao|  8298|\n",
            "|       norte|     so saiu para nece...| 51885|\n",
            "|     sudeste|     ficou somente em ...| 41275|\n",
            "|     sudeste|            nao aplicavel|  1250|\n",
            "|     sudeste|        reduziu o contato|142480|\n",
            "|     sudeste|            sem restricao| 12312|\n",
            "|     sudeste|     so saiu para nece...|138716|\n",
            "+------------+-------------------------+------+\n",
            "only showing top 20 rows\n",
            "\n"
          ]
        }
      ]
    },
    {
      "cell_type": "code",
      "source": [
        "df.createOrReplaceTempView('restringiu_contato_moradia')\n",
        "\n",
        "restringiu_contato_moradia= spark.sql('''\n",
        "    SELECT situacao_domiciliar, restringiu_contato_fisico, count(*) as total\n",
        "    FROM restringiu_contato_moradia\n",
        "    GROUP BY situacao_domiciliar, restringiu_contato_fisico\n",
        "    ORDER BY situacao_domiciliar, restringiu_contato_fisico\n",
        "''')\n",
        "\n",
        "restringiu_contato_moradia.show()"
      ],
      "metadata": {
        "colab": {
          "base_uri": "https://localhost:8080/"
        },
        "id": "n0LFSbBOinID",
        "outputId": "11fbfb5c-f88e-46e8-9f00-4213c74cec8f"
      },
      "execution_count": null,
      "outputs": [
        {
          "output_type": "stream",
          "name": "stdout",
          "text": [
            "+-------------------+-------------------------+------+\n",
            "|situacao_domiciliar|restringiu_contato_fisico| total|\n",
            "+-------------------+-------------------------+------+\n",
            "|              rural|     ficou somente em ...| 42549|\n",
            "|              rural|            nao aplicavel|   898|\n",
            "|              rural|        reduziu o contato|100583|\n",
            "|              rural|            sem restricao| 11106|\n",
            "|              rural|     so saiu para nece...|118861|\n",
            "|             urbana|     ficou somente em ...|112044|\n",
            "|             urbana|            nao aplicavel|  4049|\n",
            "|             urbana|        reduziu o contato|383930|\n",
            "|             urbana|            sem restricao| 35088|\n",
            "|             urbana|     so saiu para nece...|340089|\n",
            "+-------------------+-------------------------+------+\n",
            "\n"
          ]
        }
      ]
    },
    {
      "cell_type": "code",
      "source": [
        "df.createOrReplaceTempView('remunerado_regiao')\n",
        "\n",
        "remunerado_regiao= spark.sql('''\n",
        "    SELECT regiao, remunerado_continua, count(*) as total_remunerado\n",
        "    FROM remunerado_regiao\n",
        "    GROUP BY regiao, remunerado_continua\n",
        "    ORDER BY regiao, remunerado_continua\n",
        "''')\n",
        "\n",
        "remunerado_regiao.show()"
      ],
      "metadata": {
        "colab": {
          "base_uri": "https://localhost:8080/"
        },
        "id": "ZvJQ_fWzjt_N",
        "outputId": "907ea4fe-6c8b-4b04-89b9-d37cd123318f"
      },
      "execution_count": null,
      "outputs": [
        {
          "output_type": "stream",
          "name": "stdout",
          "text": [
            "+------------+-------------------+----------------+\n",
            "|      regiao|remunerado_continua|total_remunerado|\n",
            "+------------+-------------------+----------------+\n",
            "|centro-oeste|                nao|            1233|\n",
            "|centro-oeste|      nao aplicavel|          120113|\n",
            "|centro-oeste|     nao remunerado|              14|\n",
            "|centro-oeste|                sim|            1113|\n",
            "|    nordeste|                nao|            4339|\n",
            "|    nordeste|      nao aplicavel|          343269|\n",
            "|    nordeste|     nao remunerado|              92|\n",
            "|    nordeste|                sim|            3199|\n",
            "|       norte|                nao|            1576|\n",
            "|       norte|      nao aplicavel|          138678|\n",
            "|       norte|     nao remunerado|              35|\n",
            "|       norte|                sim|            2083|\n",
            "|     sudeste|                nao|            5134|\n",
            "|     sudeste|      nao aplicavel|          327264|\n",
            "|     sudeste|     nao remunerado|              53|\n",
            "|     sudeste|                sim|            3582|\n",
            "|         sul|                nao|            1802|\n",
            "|         sul|      nao aplicavel|          193829|\n",
            "|         sul|     nao remunerado|              28|\n",
            "|         sul|                sim|            1761|\n",
            "+------------+-------------------+----------------+\n",
            "\n"
          ]
        }
      ]
    },
    {
      "cell_type": "code",
      "source": [
        "df.createOrReplaceTempView('tipo_moradia_remunerado')\n",
        "\n",
        "tipo_moradia_remunerado= spark.sql('''\n",
        "    SELECT tipo_moradia, remunerado_continua, count(*) as total_remunerado\n",
        "    FROM tipo_moradia_remunerado\n",
        "    GROUP BY tipo_moradia, remunerado_continua\n",
        "    ORDER BY tipo_moradia, remunerado_continua\n",
        "''')\n",
        "\n",
        "tipo_moradia_remunerado.show()"
      ],
      "metadata": {
        "colab": {
          "base_uri": "https://localhost:8080/"
        },
        "id": "nhKM9ac0nWYC",
        "outputId": "aa437ca8-73b4-41be-ae9c-8681bc7db594"
      },
      "execution_count": null,
      "outputs": [
        {
          "output_type": "stream",
          "name": "stdout",
          "text": [
            "+--------------------+-------------------+----------------+\n",
            "|        tipo_moradia|remunerado_continua|total_remunerado|\n",
            "+--------------------+-------------------+----------------+\n",
            "|             alugado|                nao|            2089|\n",
            "|             alugado|      nao aplicavel|          157530|\n",
            "|             alugado|     nao remunerado|              12|\n",
            "|             alugado|                sim|            1517|\n",
            "|cedido de outra f...|                nao|             167|\n",
            "|cedido de outra f...|      nao aplicavel|           12077|\n",
            "|cedido de outra f...|     nao remunerado|               1|\n",
            "|cedido de outra f...|                sim|              70|\n",
            "|cedido por empreg...|                nao|             106|\n",
            "|cedido por empreg...|      nao aplicavel|           25119|\n",
            "|cedido por empreg...|                sim|              71|\n",
            "|cedido por familiar |                nao|            1483|\n",
            "|cedido por familiar |      nao aplicavel|           94463|\n",
            "|cedido por familiar |     nao remunerado|              14|\n",
            "|cedido por familiar |                sim|             896|\n",
            "|      outra condicao|                nao|              60|\n",
            "|      outra condicao|      nao aplicavel|            3738|\n",
            "|      outra condicao|                sim|              23|\n",
            "|proprio_ainda pag...|                nao|             634|\n",
            "|proprio_ainda pag...|      nao aplicavel|           65057|\n",
            "+--------------------+-------------------+----------------+\n",
            "only showing top 20 rows\n",
            "\n"
          ]
        }
      ]
    },
    {
      "cell_type": "code",
      "source": [
        "df.createOrReplaceTempView('afastamento_remunerado')\n",
        "\n",
        "afastamento_remunerado= spark.sql('''\n",
        "    SELECT motivo_do_afastamento, afastado_trabalho, remunerado_continua, count(*) as total_remunerado\n",
        "    FROM afastamento_remunerado\n",
        "    GROUP BY motivo_do_afastamento, afastado_trabalho, remunerado_continua\n",
        "    ORDER BY motivo_do_afastamento, afastado_trabalho, remunerado_continua\n",
        "''')\n",
        "\n",
        "afastamento_remunerado.show()"
      ],
      "metadata": {
        "colab": {
          "base_uri": "https://localhost:8080/"
        },
        "id": "xOee0gMzj_Sz",
        "outputId": "b40d1fab-d5b5-4aa8-c3e4-e7b4021ba92e"
      },
      "execution_count": null,
      "outputs": [
        {
          "output_type": "stream",
          "name": "stdout",
          "text": [
            "+---------------------+-----------------+-------------------+----------------+\n",
            "|motivo_do_afastamento|afastado_trabalho|remunerado_continua|total_remunerado|\n",
            "+---------------------+-----------------+-------------------+----------------+\n",
            "| afastamento sem s...|              sim|      nao aplicavel|            2476|\n",
            "|   fatores ocasionais|              sim|      nao aplicavel|            1061|\n",
            "| ferias ou jornada...|              sim|      nao aplicavel|            3561|\n",
            "| maternidade ou pa...|              sim|      nao aplicavel|            1320|\n",
            "|        nao aplicavel|              nao|      nao aplicavel|          482711|\n",
            "|        nao aplicavel|    nao aplicavel|      nao aplicavel|          624881|\n",
            "|         outro motivo|              sim|      nao aplicavel|            2226|\n",
            "| outro tipo de lic...|              sim|      nao aplicavel|             428|\n",
            "| quarentena ou fer...|              sim|                nao|           14084|\n",
            "| quarentena ou fer...|              sim|     nao remunerado|             222|\n",
            "| quarentena ou fer...|              sim|                sim|           11738|\n",
            "| saude ou acidente...|              sim|      nao aplicavel|            4489|\n",
            "+---------------------+-----------------+-------------------+----------------+\n",
            "\n"
          ]
        }
      ]
    }
  ]
}