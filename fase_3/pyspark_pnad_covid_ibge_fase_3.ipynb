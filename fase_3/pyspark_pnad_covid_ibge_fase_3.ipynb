{
  "nbformat": 4,
  "nbformat_minor": 0,
  "metadata": {
    "colab": {
      "provenance": []
    },
    "kernelspec": {
      "name": "python3",
      "display_name": "Python 3"
    },
    "language_info": {
      "name": "python"
    }
  },
  "cells": [
    {
      "cell_type": "markdown",
      "source": [
        "Instalar Bibliotecas pyspark e findspark"
      ],
      "metadata": {
        "id": "Am3KXke9Bf4z"
      }
    },
    {
      "cell_type": "code",
      "source": [
        "!pip install pyspark\n",
        "!pip install findspark"
      ],
      "metadata": {
        "colab": {
          "base_uri": "https://localhost:8080/"
        },
        "id": "TiKL85rBBBBR",
        "outputId": "0e722f0d-67d3-4222-e49f-44a29254012a"
      },
      "execution_count": null,
      "outputs": [
        {
          "output_type": "stream",
          "name": "stdout",
          "text": [
            "Requirement already satisfied: pyspark in /usr/local/lib/python3.10/dist-packages (3.5.1)\n",
            "Requirement already satisfied: py4j==0.10.9.7 in /usr/local/lib/python3.10/dist-packages (from pyspark) (0.10.9.7)\n",
            "Requirement already satisfied: findspark in /usr/local/lib/python3.10/dist-packages (2.0.1)\n"
          ]
        }
      ]
    },
    {
      "cell_type": "markdown",
      "source": [
        "Import bibliotecas"
      ],
      "metadata": {
        "id": "np2-U0gHDerb"
      }
    },
    {
      "cell_type": "code",
      "execution_count": null,
      "metadata": {
        "id": "xoG8Fn6P-YP6"
      },
      "outputs": [],
      "source": [
        "import findspark\n",
        "findspark.init()\n",
        "from pyspark.sql import SparkSession\n",
        "spark = SparkSession.builder.master(\"local[*]\").getOrCreate()"
      ]
    },
    {
      "cell_type": "code",
      "source": [
        "df = spark.sql('''select 'OK' as Status''')\n",
        "df.show()"
      ],
      "metadata": {
        "colab": {
          "base_uri": "https://localhost:8080/"
        },
        "id": "Q1CENexVCvHb",
        "outputId": "acd66827-62e2-46d7-ed6d-b250b8d76d31"
      },
      "execution_count": null,
      "outputs": [
        {
          "output_type": "stream",
          "name": "stdout",
          "text": [
            "+------+\n",
            "|Status|\n",
            "+------+\n",
            "|    OK|\n",
            "+------+\n",
            "\n"
          ]
        }
      ]
    },
    {
      "cell_type": "markdown",
      "source": [
        "## Manipulação de dados usando spark"
      ],
      "metadata": {
        "id": "DdMr72cWDz_L"
      }
    },
    {
      "cell_type": "code",
      "source": [
        "from pyspark.sql import Row, DataFrame\n",
        "from pyspark.sql.types import StringType, StructType, StructField, IntegerType, FloatType\n",
        "from pyspark.sql.functions import col, expr, lit, substring, concat, concat_ws, when, coalesce\n",
        "from pyspark.sql import functions as F\n",
        "import pyspark.sql.types as T\n",
        "from functools import reduce\n",
        "from typing import List"
      ],
      "metadata": {
        "id": "o0lBIJpbR45H"
      },
      "execution_count": null,
      "outputs": []
    },
    {
      "cell_type": "code",
      "source": [
        "df = spark.read.csv('/content/drive/MyDrive/PosTech_Analise_de_dados/FASE3/tech_challenge_3/dados/df_covid.csv', sep = ',', inferSchema=True, header=True)\n",
        "\n",
        "print('df.count  :', df.count())\n",
        "print('df.col ct :', len(df.columns))\n",
        "print('df.columns:', df.columns)"
      ],
      "metadata": {
        "colab": {
          "base_uri": "https://localhost:8080/"
        },
        "id": "ClztEDRqD91z",
        "outputId": "d492f920-0b05-44f5-bfac-faf73bc1e0af"
      },
      "execution_count": null,
      "outputs": [
        {
          "output_type": "stream",
          "name": "stdout",
          "text": [
            "df.count  : 1149197\n",
            "df.col ct : 52\n",
            "df.columns: ['uf', 'idade', 'sexo', 'cor', 'escolaridade', 'ensino_publico_privado', 'frequentou_escola', 'tipo_moradia', 'situacao_domiciliar', 'rendimento', 'restringiu_contato_fisico', 'febre', 'tosse', 'dor_garganta', 'dificuldade_respirar', 'dor_cabeca', 'dor_peito', 'nausea', 'nariz_entupido', 'fadiga', 'dor_olhos', 'perda_olfato_paladar', 'dor_muscular', 'diarreia', 'ida_unidade_saude', 'hospital_publico', 'hospital_privado', 'posto_publico', 'ambulatorio_privado', 'pronto_socorro_publico', 'pronto_socorro_privado', 'fez_teste', 'teste_swab', 'resultado_swab', 'teste_sangue_dedo', 'resultado_sangue_dedo', 'teste_sangue_coleta', 'resultado_sangue_coleta', 'diagnostico_diabetes', 'diagnostico_hipertensao', 'diagnostico_doenca_pulmao', 'diagnostico_doenca_cardiaca', 'diagnostico_depressao', 'diagnostico_cancer', 'afastado_trabalho', 'motivo_do_afastamento', 'remunerado_continua', 'mais_de_um_trabalho', 'tipo_trabalho', 'horas_trabalho_normal', 'trabalho_remoto_semana_passada', 'regiao']\n"
          ]
        }
      ]
    },
    {
      "cell_type": "code",
      "source": [
        "df.createOrReplaceGlobalTempView('df_covid')"
      ],
      "metadata": {
        "id": "E_Iowx8eVxMt"
      },
      "execution_count": null,
      "outputs": []
    },
    {
      "cell_type": "code",
      "source": [
        "df.printSchema()"
      ],
      "metadata": {
        "colab": {
          "base_uri": "https://localhost:8080/"
        },
        "id": "uyMNpIoPXMXy",
        "outputId": "3ef0989a-03cc-47ce-b27f-642da9eb1546"
      },
      "execution_count": null,
      "outputs": [
        {
          "output_type": "stream",
          "name": "stdout",
          "text": [
            "root\n",
            " |-- uf: string (nullable = true)\n",
            " |-- idade: integer (nullable = true)\n",
            " |-- sexo: string (nullable = true)\n",
            " |-- cor: string (nullable = true)\n",
            " |-- escolaridade: string (nullable = true)\n",
            " |-- ensino_publico_privado: string (nullable = true)\n",
            " |-- frequentou_escola: string (nullable = true)\n",
            " |-- tipo_moradia: string (nullable = true)\n",
            " |-- situacao_domiciliar: string (nullable = true)\n",
            " |-- rendimento: string (nullable = true)\n",
            " |-- restringiu_contato_fisico: string (nullable = true)\n",
            " |-- febre: string (nullable = true)\n",
            " |-- tosse: string (nullable = true)\n",
            " |-- dor_garganta: string (nullable = true)\n",
            " |-- dificuldade_respirar: string (nullable = true)\n",
            " |-- dor_cabeca: string (nullable = true)\n",
            " |-- dor_peito: string (nullable = true)\n",
            " |-- nausea: string (nullable = true)\n",
            " |-- nariz_entupido: string (nullable = true)\n",
            " |-- fadiga: string (nullable = true)\n",
            " |-- dor_olhos: string (nullable = true)\n",
            " |-- perda_olfato_paladar: string (nullable = true)\n",
            " |-- dor_muscular: string (nullable = true)\n",
            " |-- diarreia: string (nullable = true)\n",
            " |-- ida_unidade_saude: string (nullable = true)\n",
            " |-- hospital_publico: string (nullable = true)\n",
            " |-- hospital_privado: string (nullable = true)\n",
            " |-- posto_publico: string (nullable = true)\n",
            " |-- ambulatorio_privado: string (nullable = true)\n",
            " |-- pronto_socorro_publico: string (nullable = true)\n",
            " |-- pronto_socorro_privado: string (nullable = true)\n",
            " |-- fez_teste: string (nullable = true)\n",
            " |-- teste_swab: string (nullable = true)\n",
            " |-- resultado_swab: string (nullable = true)\n",
            " |-- teste_sangue_dedo: string (nullable = true)\n",
            " |-- resultado_sangue_dedo: string (nullable = true)\n",
            " |-- teste_sangue_coleta: string (nullable = true)\n",
            " |-- resultado_sangue_coleta: string (nullable = true)\n",
            " |-- diagnostico_diabetes: string (nullable = true)\n",
            " |-- diagnostico_hipertensao: string (nullable = true)\n",
            " |-- diagnostico_doenca_pulmao: string (nullable = true)\n",
            " |-- diagnostico_doenca_cardiaca: string (nullable = true)\n",
            " |-- diagnostico_depressao: string (nullable = true)\n",
            " |-- diagnostico_cancer: string (nullable = true)\n",
            " |-- afastado_trabalho: string (nullable = true)\n",
            " |-- motivo_do_afastamento: string (nullable = true)\n",
            " |-- remunerado_continua: string (nullable = true)\n",
            " |-- mais_de_um_trabalho: string (nullable = true)\n",
            " |-- tipo_trabalho: string (nullable = true)\n",
            " |-- horas_trabalho_normal: double (nullable = true)\n",
            " |-- trabalho_remoto_semana_passada: string (nullable = true)\n",
            " |-- regiao: string (nullable = true)\n",
            "\n"
          ]
        }
      ]
    }
  ]
}