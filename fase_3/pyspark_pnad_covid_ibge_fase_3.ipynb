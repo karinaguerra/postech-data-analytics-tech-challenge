{
  "nbformat": 4,
  "nbformat_minor": 0,
  "metadata": {
    "colab": {
      "provenance": []
    },
    "kernelspec": {
      "name": "python3",
      "display_name": "Python 3"
    },
    "language_info": {
      "name": "python"
    }
  },
  "cells": [
    {
      "cell_type": "markdown",
      "source": [
        "Instalar Bibliotecas pyspark e findspark"
      ],
      "metadata": {
        "id": "Am3KXke9Bf4z"
      }
    },
    {
      "cell_type": "code",
      "source": [
        "!pip install pyspark\n",
        "!pip install findspark"
      ],
      "metadata": {
        "colab": {
          "base_uri": "https://localhost:8080/"
        },
        "id": "TiKL85rBBBBR",
        "outputId": "a4f586f2-7c16-4e20-aa7e-3c1b9af39ed5"
      },
      "execution_count": 52,
      "outputs": [
        {
          "output_type": "stream",
          "name": "stdout",
          "text": [
            "Requirement already satisfied: pyspark in /usr/local/lib/python3.10/dist-packages (3.5.1)\n",
            "Requirement already satisfied: py4j==0.10.9.7 in /usr/local/lib/python3.10/dist-packages (from pyspark) (0.10.9.7)\n",
            "Requirement already satisfied: findspark in /usr/local/lib/python3.10/dist-packages (2.0.1)\n"
          ]
        }
      ]
    },
    {
      "cell_type": "markdown",
      "source": [
        "Import bibliotecas"
      ],
      "metadata": {
        "id": "np2-U0gHDerb"
      }
    },
    {
      "cell_type": "code",
      "execution_count": 53,
      "metadata": {
        "id": "xoG8Fn6P-YP6"
      },
      "outputs": [],
      "source": [
        "import findspark\n",
        "findspark.init()\n",
        "from pyspark.sql import SparkSession\n",
        "spark = SparkSession.builder.master(\"local[*]\").getOrCreate()"
      ]
    },
    {
      "cell_type": "code",
      "source": [
        "df = spark.sql('''select 'OK' as Status''')\n",
        "df.show()"
      ],
      "metadata": {
        "colab": {
          "base_uri": "https://localhost:8080/"
        },
        "id": "Q1CENexVCvHb",
        "outputId": "782b88b5-052d-4d80-8fe7-f7d9fcacde17"
      },
      "execution_count": 54,
      "outputs": [
        {
          "output_type": "stream",
          "name": "stdout",
          "text": [
            "+------+\n",
            "|Status|\n",
            "+------+\n",
            "|    OK|\n",
            "+------+\n",
            "\n"
          ]
        }
      ]
    },
    {
      "cell_type": "markdown",
      "source": [
        "## Manipulação de dados usando spark"
      ],
      "metadata": {
        "id": "DdMr72cWDz_L"
      }
    },
    {
      "cell_type": "code",
      "source": [
        "from pyspark.sql import Row, DataFrame\n",
        "from pyspark.sql.types import StringType, StructType, StructField, IntegerType, FloatType\n",
        "from pyspark.sql.functions import col, expr, lit, substring, concat, concat_ws, when, coalesce\n",
        "from pyspark.sql import functions as F\n",
        "import pyspark.sql.types as T\n",
        "from functools import reduce\n",
        "from typing import List"
      ],
      "metadata": {
        "id": "o0lBIJpbR45H"
      },
      "execution_count": 55,
      "outputs": []
    },
    {
      "cell_type": "code",
      "source": [
        "df = spark.read.csv('/content/drive/MyDrive/PosTech_Analise_de_dados/FASE3/tech_challenge_3/dados/df_covid.csv', sep = ',', inferSchema=True, header=True)\n",
        "\n",
        "print('df.count  :', df.count())\n",
        "print('df.col ct :', len(df.columns))\n",
        "print('df.columns:', df.columns)"
      ],
      "metadata": {
        "colab": {
          "base_uri": "https://localhost:8080/"
        },
        "id": "ClztEDRqD91z",
        "outputId": "756e5872-bedb-40d4-f1df-899288111093"
      },
      "execution_count": 56,
      "outputs": [
        {
          "output_type": "stream",
          "name": "stdout",
          "text": [
            "df.count  : 1149197\n",
            "df.col ct : 52\n",
            "df.columns: ['uf', 'idade', 'sexo', 'cor', 'escolaridade', 'ensino_publico_privado', 'frequentou_escola', 'tipo_moradia', 'situacao_domiciliar', 'rendimento', 'restringiu_contato_fisico', 'febre', 'tosse', 'dor_garganta', 'dificuldade_respirar', 'dor_cabeca', 'dor_peito', 'nausea', 'nariz_entupido', 'fadiga', 'dor_olhos', 'perda_olfato_paladar', 'dor_muscular', 'diarreia', 'ida_unidade_saude', 'hospital_publico', 'hospital_privado', 'posto_publico', 'ambulatorio_privado', 'pronto_socorro_publico', 'pronto_socorro_privado', 'fez_teste', 'teste_swab', 'resultado_swab', 'teste_sangue_dedo', 'resultado_sangue_dedo', 'teste_sangue_coleta', 'resultado_sangue_coleta', 'diagnostico_diabetes', 'diagnostico_hipertensao', 'diagnostico_doenca_pulmao', 'diagnostico_doenca_cardiaca', 'diagnostico_depressao', 'diagnostico_cancer', 'afastado_trabalho', 'motivo_do_afastamento', 'remunerado_continua', 'mais_de_um_trabalho', 'tipo_trabalho', 'horas_trabalho_normal', 'trabalho_remoto_semana_passada', 'regiao']\n"
          ]
        }
      ]
    },
    {
      "cell_type": "code",
      "source": [
        "df.printSchema()"
      ],
      "metadata": {
        "colab": {
          "base_uri": "https://localhost:8080/"
        },
        "id": "uyMNpIoPXMXy",
        "outputId": "f0c1c243-f5ae-49b3-e41d-e6f283766097"
      },
      "execution_count": 57,
      "outputs": [
        {
          "output_type": "stream",
          "name": "stdout",
          "text": [
            "root\n",
            " |-- uf: string (nullable = true)\n",
            " |-- idade: integer (nullable = true)\n",
            " |-- sexo: string (nullable = true)\n",
            " |-- cor: string (nullable = true)\n",
            " |-- escolaridade: string (nullable = true)\n",
            " |-- ensino_publico_privado: string (nullable = true)\n",
            " |-- frequentou_escola: string (nullable = true)\n",
            " |-- tipo_moradia: string (nullable = true)\n",
            " |-- situacao_domiciliar: string (nullable = true)\n",
            " |-- rendimento: string (nullable = true)\n",
            " |-- restringiu_contato_fisico: string (nullable = true)\n",
            " |-- febre: string (nullable = true)\n",
            " |-- tosse: string (nullable = true)\n",
            " |-- dor_garganta: string (nullable = true)\n",
            " |-- dificuldade_respirar: string (nullable = true)\n",
            " |-- dor_cabeca: string (nullable = true)\n",
            " |-- dor_peito: string (nullable = true)\n",
            " |-- nausea: string (nullable = true)\n",
            " |-- nariz_entupido: string (nullable = true)\n",
            " |-- fadiga: string (nullable = true)\n",
            " |-- dor_olhos: string (nullable = true)\n",
            " |-- perda_olfato_paladar: string (nullable = true)\n",
            " |-- dor_muscular: string (nullable = true)\n",
            " |-- diarreia: string (nullable = true)\n",
            " |-- ida_unidade_saude: string (nullable = true)\n",
            " |-- hospital_publico: string (nullable = true)\n",
            " |-- hospital_privado: string (nullable = true)\n",
            " |-- posto_publico: string (nullable = true)\n",
            " |-- ambulatorio_privado: string (nullable = true)\n",
            " |-- pronto_socorro_publico: string (nullable = true)\n",
            " |-- pronto_socorro_privado: string (nullable = true)\n",
            " |-- fez_teste: string (nullable = true)\n",
            " |-- teste_swab: string (nullable = true)\n",
            " |-- resultado_swab: string (nullable = true)\n",
            " |-- teste_sangue_dedo: string (nullable = true)\n",
            " |-- resultado_sangue_dedo: string (nullable = true)\n",
            " |-- teste_sangue_coleta: string (nullable = true)\n",
            " |-- resultado_sangue_coleta: string (nullable = true)\n",
            " |-- diagnostico_diabetes: string (nullable = true)\n",
            " |-- diagnostico_hipertensao: string (nullable = true)\n",
            " |-- diagnostico_doenca_pulmao: string (nullable = true)\n",
            " |-- diagnostico_doenca_cardiaca: string (nullable = true)\n",
            " |-- diagnostico_depressao: string (nullable = true)\n",
            " |-- diagnostico_cancer: string (nullable = true)\n",
            " |-- afastado_trabalho: string (nullable = true)\n",
            " |-- motivo_do_afastamento: string (nullable = true)\n",
            " |-- remunerado_continua: string (nullable = true)\n",
            " |-- mais_de_um_trabalho: string (nullable = true)\n",
            " |-- tipo_trabalho: string (nullable = true)\n",
            " |-- horas_trabalho_normal: double (nullable = true)\n",
            " |-- trabalho_remoto_semana_passada: string (nullable = true)\n",
            " |-- regiao: string (nullable = true)\n",
            "\n"
          ]
        }
      ]
    },
    {
      "cell_type": "code",
      "source": [
        "# resultado de testagem por região\n",
        "df.createOrReplaceTempView('testagem_regiao')\n",
        "\n",
        "testagem_regiao = spark.sql('''\n",
        "    SELECT regiao, resultado_swab, resultado_sangue_dedo, resultado_sangue_coleta, count(resultado_sangue_coleta) as total\n",
        "    FROM testagem_regiao\n",
        "    WHERE resultado_swab != 'nao aplicavel' OR\n",
        "        resultado_sangue_dedo != 'nao aplicavel' OR\n",
        "        resultado_sangue_coleta != 'nao aplicavel'\n",
        "    GROUP BY regiao, resultado_swab, resultado_sangue_dedo, resultado_sangue_coleta\n",
        "    ORDER BY regiao, resultado_swab, resultado_sangue_dedo, resultado_sangue_coleta\n",
        "''')\n",
        "\n",
        "testagem_regiao.show()"
      ],
      "metadata": {
        "colab": {
          "base_uri": "https://localhost:8080/"
        },
        "id": "PQkumE5OPnrj",
        "outputId": "03c4b655-3280-4036-b7eb-f369912a0e8d"
      },
      "execution_count": 77,
      "outputs": [
        {
          "output_type": "stream",
          "name": "stdout",
          "text": [
            "+------------+--------------+---------------------+-----------------------+-----+\n",
            "|      regiao|resultado_swab|resultado_sangue_dedo|resultado_sangue_coleta|total|\n",
            "+------------+--------------+---------------------+-----------------------+-----+\n",
            "|centro-oeste|  inconclusivo|         inconclusivo|          nao aplicavel|    3|\n",
            "|centro-oeste|  inconclusivo|         inconclusivo|   nao recebeu o res...|    1|\n",
            "|centro-oeste|  inconclusivo|        nao aplicavel|           inconclusivo|    2|\n",
            "|centro-oeste|  inconclusivo|        nao aplicavel|          nao aplicavel|   15|\n",
            "|centro-oeste|  inconclusivo|        nao aplicavel|               negativo|    4|\n",
            "|centro-oeste|  inconclusivo|        nao aplicavel|               positivo|    2|\n",
            "|centro-oeste|  inconclusivo|             negativo|          nao aplicavel|    2|\n",
            "|centro-oeste|  inconclusivo|             negativo|               negativo|    1|\n",
            "|centro-oeste| nao aplicavel|         inconclusivo|           inconclusivo|    1|\n",
            "|centro-oeste| nao aplicavel|         inconclusivo|          nao aplicavel|   22|\n",
            "|centro-oeste| nao aplicavel|         inconclusivo|               negativo|    5|\n",
            "|centro-oeste| nao aplicavel|        nao aplicavel|           inconclusivo|   12|\n",
            "|centro-oeste| nao aplicavel|        nao aplicavel|   nao recebeu o res...|   54|\n",
            "|centro-oeste| nao aplicavel|        nao aplicavel|               negativo| 2705|\n",
            "|centro-oeste| nao aplicavel|        nao aplicavel|               positivo| 1017|\n",
            "|centro-oeste| nao aplicavel| nao recebeu o res...|          nao aplicavel|   20|\n",
            "|centro-oeste| nao aplicavel|             negativo|          nao aplicavel| 4608|\n",
            "|centro-oeste| nao aplicavel|             negativo|               negativo|  344|\n",
            "|centro-oeste| nao aplicavel|             negativo|               positivo|   32|\n",
            "|centro-oeste| nao aplicavel|             positivo|          nao aplicavel|  720|\n",
            "+------------+--------------+---------------------+-----------------------+-----+\n",
            "only showing top 20 rows\n",
            "\n"
          ]
        }
      ]
    },
    {
      "cell_type": "code",
      "source": [
        "df.createOrReplaceTempView('sintomas')\n",
        "\n",
        "# Calcula o total de registros com sintomas\n",
        "total_registros_com_sintomas = spark.sql('''\n",
        "    SELECT COUNT(*) as total\n",
        "    FROM sintomas\n",
        "    WHERE\n",
        "        tosse != 'ignorado' OR\n",
        "        dor_garganta != 'ignorado' OR\n",
        "        dificuldade_respirar != 'ignorado' OR\n",
        "        dor_cabeca != 'ignorado' OR\n",
        "        dor_peito != 'ignorado' OR\n",
        "        nausea != 'ignorado' OR\n",
        "        fadiga != 'ignorado' OR\n",
        "        dor_olhos != 'ignorado' OR\n",
        "        perda_olfato_paladar != 'ignorado' OR\n",
        "        dor_muscular != 'ignorado' OR\n",
        "        diarreia != 'ignorado'\n",
        "''').collect()[0]['total']\n",
        "\n",
        "# Consulta para calcular o percentual de cada sintoma em relação ao total de registros com sintomas\n",
        "percentuais = spark.sql(f'''\n",
        "    SELECT\n",
        "        SUM(CASE WHEN tosse = 'sim' THEN 1 ELSE 0 END) / {total_registros_com_sintomas} * 100 as percentual_tosse,\n",
        "        SUM(CASE WHEN dor_garganta = 'sim' THEN 1 ELSE 0 END) / {total_registros_com_sintomas} * 100 as percentual_dor_garganta,\n",
        "        SUM(CASE WHEN dificuldade_respirar = 'sim' THEN 1 ELSE 0 END) / {total_registros_com_sintomas} * 100 as percentual_dificuldade_respirar,\n",
        "        SUM(CASE WHEN dor_cabeca = 'sim' THEN 1 ELSE 0 END) / {total_registros_com_sintomas} * 100 as percentual_dor_cabeca,\n",
        "        SUM(CASE WHEN dor_peito = 'sim' THEN 1 ELSE 0 END) / {total_registros_com_sintomas} * 100 as percentual_dor_peito,\n",
        "        SUM(CASE WHEN nausea = 'sim' THEN 1 ELSE 0 END) / {total_registros_com_sintomas} * 100 as percentual_nausea,\n",
        "        SUM(CASE WHEN fadiga = 'sim' THEN 1 ELSE 0 END) / {total_registros_com_sintomas} * 100 as percentual_fadiga,\n",
        "        SUM(CASE WHEN dor_olhos = 'sim' THEN 1 ELSE 0 END) / {total_registros_com_sintomas} * 100 as percentual_dor_olhos,\n",
        "        SUM(CASE WHEN perda_olfato_paladar = 'sim' THEN 1 ELSE 0 END) / {total_registros_com_sintomas} * 100 as percentual_perda_olfato_paladar,\n",
        "        SUM(CASE WHEN dor_muscular = 'sim' THEN 1 ELSE 0 END) / {total_registros_com_sintomas} * 100 as percentual_dor_muscular,\n",
        "        SUM(CASE WHEN diarreia = 'sim' THEN 1 ELSE 0 END) / {total_registros_com_sintomas} * 100 as percentual_diarreia\n",
        "    FROM sintomas\n",
        "''').collect()[0]\n",
        "\n",
        "# Exibe os percentuais\n",
        "print(\"Percentual de sintomas positivos:\")\n",
        "print(f\"Tosse: {percentuais['percentual_tosse']:.2f}%\")\n",
        "print(f\"Dor de garganta: {percentuais['percentual_dor_garganta']:.2f}%\")\n",
        "print(f\"Dificuldade respiratória: {percentuais['percentual_dificuldade_respirar']:.2f}%\")\n",
        "print(f\"Dor de cabeça: {percentuais['percentual_dor_cabeca']:.2f}%\")\n",
        "print(f\"Dor no peito: {percentuais['percentual_dor_peito']:.2f}%\")\n",
        "print(f\"Náusea: {percentuais['percentual_nausea']:.2f}%\")\n",
        "print(f\"Fadiga: {percentuais['percentual_fadiga']:.2f}%\")\n",
        "print(f\"Dor nos olhos: {percentuais['percentual_dor_olhos']:.2f}%\")\n",
        "print(f\"Perda de olfato ou paladar: {percentuais['percentual_perda_olfato_paladar']:.2f}%\")\n",
        "print(f\"Dor muscular: {percentuais['percentual_dor_muscular']:.2f}%\")\n",
        "print(f\"Diarreia: {percentuais['percentual_diarreia']:.2f}%\")\n"
      ],
      "metadata": {
        "colab": {
          "base_uri": "https://localhost:8080/"
        },
        "id": "Q7eCsa99RblV",
        "outputId": "8b99c476-740b-40c1-c4dd-8bbf0a379626"
      },
      "execution_count": 78,
      "outputs": [
        {
          "output_type": "stream",
          "name": "stdout",
          "text": [
            "Percentual de sintomas positivos:\n",
            "Tosse: 1.34%\n",
            "Dor de garganta: 1.10%\n",
            "Dificuldade respiratória: 0.42%\n",
            "Dor de cabeça: 1.65%\n",
            "Dor no peito: 0.30%\n",
            "Náusea: 0.35%\n",
            "Fadiga: 0.72%\n",
            "Dor nos olhos: 0.32%\n",
            "Perda de olfato ou paladar: 0.39%\n",
            "Dor muscular: 0.95%\n",
            "Diarreia: 0.38%\n"
          ]
        }
      ]
    },
    {
      "cell_type": "code",
      "source": [
        "df.createOrReplaceTempView('sintomas_sexo')\n",
        "\n",
        "sintomas_sexo = spark.sql('''\n",
        "    SELECT sexo, tosse, dor_garganta, dificuldade_respirar, dor_cabeca, dor_peito, nausea, fadiga, dor_olhos, perda_olfato_paladar, dor_muscular, diarreia,\n",
        "        CASE WHEN tosse = 'sim' THEN 1 ELSE 0 END +\n",
        "        CASE WHEN dor_garganta = 'sim' THEN 1 ELSE 0 END +\n",
        "        CASE WHEN dificuldade_respirar = 'sim' THEN 1 ELSE 0 END +\n",
        "        CASE WHEN dor_cabeca = 'sim' THEN 1 ELSE 0 END +\n",
        "        CASE WHEN dor_peito = 'sim' THEN 1 ELSE 0 END +\n",
        "        CASE WHEN nausea = 'sim' THEN 1 ELSE 0 END +\n",
        "        CASE WHEN fadiga = 'sim' THEN 1 ELSE 0 END +\n",
        "        CASE WHEN dor_olhos = 'sim' THEN 1 ELSE 0 END +\n",
        "        CASE WHEN perda_olfato_paladar = 'sim' THEN 1 ELSE 0 END +\n",
        "        CASE WHEN dor_muscular = 'sim' THEN 1 ELSE 0 END +\n",
        "        CASE WHEN diarreia = 'sim' THEN 1 ELSE 0 END AS total_sintomas_positivo\n",
        "    FROM sintomas_sexo\n",
        "        WHERE\n",
        "        (tosse = 'sim' OR\n",
        "        dor_garganta = 'sim' OR\n",
        "        dificuldade_respirar = 'sim' OR\n",
        "        dor_cabeca = 'sim' OR\n",
        "        dor_peito = 'sim' OR\n",
        "        nausea = 'sim' OR\n",
        "        fadiga = 'sim' OR\n",
        "        dor_olhos = 'sim' OR\n",
        "        perda_olfato_paladar = 'sim' OR\n",
        "        dor_muscular = 'sim' OR\n",
        "        diarreia = 'sim') AND\n",
        "        (tosse != 'ignorado' AND\n",
        "        dor_garganta != 'ignorado' AND\n",
        "        dificuldade_respirar != 'ignorado' AND\n",
        "        dor_cabeca != 'ignorado' AND\n",
        "        dor_peito != 'ignorado' AND\n",
        "        nausea != 'ignorado' AND\n",
        "        fadiga != 'ignorado' AND\n",
        "        dor_olhos != 'ignorado' AND\n",
        "        perda_olfato_paladar != 'ignorado' AND\n",
        "        dor_muscular != 'ignorado' AND\n",
        "        diarreia != 'ignorado')\n",
        "    GROUP BY sexo, tosse, dor_garganta, dificuldade_respirar, dor_cabeca, dor_peito, nausea, fadiga, dor_olhos, perda_olfato_paladar, dor_muscular, diarreia\n",
        "    ORDER BY sexo, tosse, dor_garganta, dificuldade_respirar, dor_cabeca, dor_peito, nausea, fadiga, dor_olhos, perda_olfato_paladar, dor_muscular, diarreia\n",
        "''')\n",
        "\n",
        "sintomas_sexo.show()"
      ],
      "metadata": {
        "colab": {
          "base_uri": "https://localhost:8080/",
          "height": 827
        },
        "id": "F85vwbZwUEtF",
        "outputId": "dbd3a5a0-5b36-41a1-b53f-ce3776cd15c0"
      },
      "execution_count": 85,
      "outputs": [
        {
          "output_type": "error",
          "ename": "AnalysisException",
          "evalue": "[MISSING_AGGREGATION] The non-aggregating expression \"tosse\" is based on columns which are not participating in the GROUP BY clause.\nAdd the columns or the expression to the GROUP BY, aggregate the expression, or use \"any_value(tosse)\" if you do not care which of the values within a group is returned.;\nSort [sexo#2263 ASC NULLS FIRST, tosse#2273 ASC NULLS FIRST, dor_garganta#2274 ASC NULLS FIRST, dificuldade_respirar#2275 ASC NULLS FIRST, dor_cabeca#2276 ASC NULLS FIRST, dor_peito#2277 ASC NULLS FIRST, nausea#2278 ASC NULLS FIRST, fadiga#2280 ASC NULLS FIRST, dor_olhos#2281 ASC NULLS FIRST, perda_olfato_paladar#2282 ASC NULLS FIRST, dor_muscular#2283 ASC NULLS FIRST, diarreia#2284 ASC NULLS FIRST], true\n+- Aggregate [sexo#2263], [sexo#2263, tosse#2273, dor_garganta#2274, dificuldade_respirar#2275, dor_cabeca#2276, dor_peito#2277, nausea#2278, fadiga#2280, dor_olhos#2281, perda_olfato_paladar#2282, dor_muscular#2283, diarreia#2284, ((((((((((CASE WHEN (tosse#2273 = sim) THEN 1 ELSE 0 END + CASE WHEN (dor_garganta#2274 = sim) THEN 1 ELSE 0 END) + CASE WHEN (dificuldade_respirar#2275 = sim) THEN 1 ELSE 0 END) + CASE WHEN (dor_cabeca#2276 = sim) THEN 1 ELSE 0 END) + CASE WHEN (dor_peito#2277 = sim) THEN 1 ELSE 0 END) + CASE WHEN (nausea#2278 = sim) THEN 1 ELSE 0 END) + CASE WHEN (fadiga#2280 = sim) THEN 1 ELSE 0 END) + CASE WHEN (dor_olhos#2281 = sim) THEN 1 ELSE 0 END) + CASE WHEN (perda_olfato_paladar#2282 = sim) THEN 1 ELSE 0 END) + CASE WHEN (dor_muscular#2283 = sim) THEN 1 ELSE 0 END) + CASE WHEN (diarreia#2284 = sim) THEN 1 ELSE 0 END) AS total_sintomas_positivo#5168]\n   +- Filter ((((((tosse#2273 = sim) OR (dor_garganta#2274 = sim)) OR (dificuldade_respirar#2275 = sim)) OR (((dor_cabeca#2276 = sim) OR (dor_peito#2277 = sim)) OR (nausea#2278 = sim))) OR ((((fadiga#2280 = sim) OR (dor_olhos#2281 = sim)) OR (perda_olfato_paladar#2282 = sim)) OR ((dor_muscular#2283 = sim) OR (diarreia#2284 = sim)))) AND ((((NOT (tosse#2273 = ignorado) AND NOT (dor_garganta#2274 = ignorado)) AND NOT (dificuldade_respirar#2275 = ignorado)) AND ((NOT (dor_cabeca#2276 = ignorado) AND NOT (dor_peito#2277 = ignorado)) AND NOT (nausea#2278 = ignorado))) AND (((NOT (fadiga#2280 = ignorado) AND NOT (dor_olhos#2281 = ignorado)) AND NOT (perda_olfato_paladar#2282 = ignorado)) AND (NOT (dor_muscular#2283 = ignorado) AND NOT (diarreia#2284 = ignorado)))))\n      +- SubqueryAlias sintomas_sexo\n         +- View (`sintomas_sexo`, [uf#2261,idade#2262,sexo#2263,cor#2264,escolaridade#2265,ensino_publico_privado#2266,frequentou_escola#2267,tipo_moradia#2268,situacao_domiciliar#2269,rendimento#2270,restringiu_contato_fisico#2271,febre#2272,tosse#2273,dor_garganta#2274,dificuldade_respirar#2275,dor_cabeca#2276,dor_peito#2277,nausea#2278,nariz_entupido#2279,fadiga#2280,dor_olhos#2281,perda_olfato_paladar#2282,dor_muscular#2283,diarreia#2284,ida_unidade_saude#2285,hospital_publico#2286,hospital_privado#2287,posto_publico#2288,ambulatorio_privado#2289,pronto_socorro_publico#2290,pronto_socorro_privado#2291,fez_teste#2292,teste_swab#2293,resultado_swab#2294,teste_sangue_dedo#2295,resultado_sangue_dedo#2296,teste_sangue_coleta#2297,resultado_sangue_coleta#2298,diagnostico_diabetes#2299,diagnostico_hipertensao#2300,diagnostico_doenca_pulmao#2301,diagnostico_doenca_cardiaca#2302,diagnostico_depressao#2303,diagnostico_cancer#2304,afastado_trabalho#2305,motivo_do_afastamento#2306,remunerado_continua#2307,mais_de_um_trabalho#2308,tipo_trabalho#2309,horas_trabalho_normal#2310,trabalho_remoto_semana_passada#2311,regiao#2312])\n            +- Relation [uf#2261,idade#2262,sexo#2263,cor#2264,escolaridade#2265,ensino_publico_privado#2266,frequentou_escola#2267,tipo_moradia#2268,situacao_domiciliar#2269,rendimento#2270,restringiu_contato_fisico#2271,febre#2272,tosse#2273,dor_garganta#2274,dificuldade_respirar#2275,dor_cabeca#2276,dor_peito#2277,nausea#2278,nariz_entupido#2279,fadiga#2280,dor_olhos#2281,perda_olfato_paladar#2282,dor_muscular#2283,diarreia#2284,... 28 more fields] csv\n",
          "traceback": [
            "\u001b[0;31m---------------------------------------------------------------------------\u001b[0m",
            "\u001b[0;31mAnalysisException\u001b[0m                         Traceback (most recent call last)",
            "\u001b[0;32m<ipython-input-85-1a09327e0ffd>\u001b[0m in \u001b[0;36m<cell line: 3>\u001b[0;34m()\u001b[0m\n\u001b[1;32m      1\u001b[0m \u001b[0mdf\u001b[0m\u001b[0;34m.\u001b[0m\u001b[0mcreateOrReplaceTempView\u001b[0m\u001b[0;34m(\u001b[0m\u001b[0;34m'sintomas_sexo'\u001b[0m\u001b[0;34m)\u001b[0m\u001b[0;34m\u001b[0m\u001b[0;34m\u001b[0m\u001b[0m\n\u001b[1;32m      2\u001b[0m \u001b[0;34m\u001b[0m\u001b[0m\n\u001b[0;32m----> 3\u001b[0;31m sintomas_sexo = spark.sql('''\n\u001b[0m\u001b[1;32m      4\u001b[0m     \u001b[0mSELECT\u001b[0m \u001b[0msexo\u001b[0m\u001b[0;34m,\u001b[0m \u001b[0mtosse\u001b[0m\u001b[0;34m,\u001b[0m \u001b[0mdor_garganta\u001b[0m\u001b[0;34m,\u001b[0m \u001b[0mdificuldade_respirar\u001b[0m\u001b[0;34m,\u001b[0m \u001b[0mdor_cabeca\u001b[0m\u001b[0;34m,\u001b[0m \u001b[0mdor_peito\u001b[0m\u001b[0;34m,\u001b[0m \u001b[0mnausea\u001b[0m\u001b[0;34m,\u001b[0m \u001b[0mfadiga\u001b[0m\u001b[0;34m,\u001b[0m \u001b[0mdor_olhos\u001b[0m\u001b[0;34m,\u001b[0m \u001b[0mperda_olfato_paladar\u001b[0m\u001b[0;34m,\u001b[0m \u001b[0mdor_muscular\u001b[0m\u001b[0;34m,\u001b[0m \u001b[0mdiarreia\u001b[0m\u001b[0;34m,\u001b[0m\u001b[0;34m\u001b[0m\u001b[0;34m\u001b[0m\u001b[0m\n\u001b[1;32m      5\u001b[0m         \u001b[0mCASE\u001b[0m \u001b[0mWHEN\u001b[0m \u001b[0mtosse\u001b[0m \u001b[0;34m=\u001b[0m \u001b[0;34m'sim'\u001b[0m \u001b[0mTHEN\u001b[0m \u001b[0;36m1\u001b[0m \u001b[0mELSE\u001b[0m \u001b[0;36m0\u001b[0m \u001b[0mEND\u001b[0m \u001b[0;34m+\u001b[0m\u001b[0;34m\u001b[0m\u001b[0;34m\u001b[0m\u001b[0m\n",
            "\u001b[0;32m/usr/local/lib/python3.10/dist-packages/pyspark/sql/session.py\u001b[0m in \u001b[0;36msql\u001b[0;34m(self, sqlQuery, args, **kwargs)\u001b[0m\n\u001b[1;32m   1629\u001b[0m                     \u001b[0;34m[\u001b[0m\u001b[0m_to_java_column\u001b[0m\u001b[0;34m(\u001b[0m\u001b[0mlit\u001b[0m\u001b[0;34m(\u001b[0m\u001b[0mv\u001b[0m\u001b[0;34m)\u001b[0m\u001b[0;34m)\u001b[0m \u001b[0;32mfor\u001b[0m \u001b[0mv\u001b[0m \u001b[0;32min\u001b[0m \u001b[0;34m(\u001b[0m\u001b[0margs\u001b[0m \u001b[0;32mor\u001b[0m \u001b[0;34m[\u001b[0m\u001b[0;34m]\u001b[0m\u001b[0;34m)\u001b[0m\u001b[0;34m]\u001b[0m\u001b[0;34m\u001b[0m\u001b[0;34m\u001b[0m\u001b[0m\n\u001b[1;32m   1630\u001b[0m                 )\n\u001b[0;32m-> 1631\u001b[0;31m             \u001b[0;32mreturn\u001b[0m \u001b[0mDataFrame\u001b[0m\u001b[0;34m(\u001b[0m\u001b[0mself\u001b[0m\u001b[0;34m.\u001b[0m\u001b[0m_jsparkSession\u001b[0m\u001b[0;34m.\u001b[0m\u001b[0msql\u001b[0m\u001b[0;34m(\u001b[0m\u001b[0msqlQuery\u001b[0m\u001b[0;34m,\u001b[0m \u001b[0mlitArgs\u001b[0m\u001b[0;34m)\u001b[0m\u001b[0;34m,\u001b[0m \u001b[0mself\u001b[0m\u001b[0;34m)\u001b[0m\u001b[0;34m\u001b[0m\u001b[0;34m\u001b[0m\u001b[0m\n\u001b[0m\u001b[1;32m   1632\u001b[0m         \u001b[0;32mfinally\u001b[0m\u001b[0;34m:\u001b[0m\u001b[0;34m\u001b[0m\u001b[0;34m\u001b[0m\u001b[0m\n\u001b[1;32m   1633\u001b[0m             \u001b[0;32mif\u001b[0m \u001b[0mlen\u001b[0m\u001b[0;34m(\u001b[0m\u001b[0mkwargs\u001b[0m\u001b[0;34m)\u001b[0m \u001b[0;34m>\u001b[0m \u001b[0;36m0\u001b[0m\u001b[0;34m:\u001b[0m\u001b[0;34m\u001b[0m\u001b[0;34m\u001b[0m\u001b[0m\n",
            "\u001b[0;32m/usr/local/lib/python3.10/dist-packages/py4j/java_gateway.py\u001b[0m in \u001b[0;36m__call__\u001b[0;34m(self, *args)\u001b[0m\n\u001b[1;32m   1320\u001b[0m \u001b[0;34m\u001b[0m\u001b[0m\n\u001b[1;32m   1321\u001b[0m         \u001b[0manswer\u001b[0m \u001b[0;34m=\u001b[0m \u001b[0mself\u001b[0m\u001b[0;34m.\u001b[0m\u001b[0mgateway_client\u001b[0m\u001b[0;34m.\u001b[0m\u001b[0msend_command\u001b[0m\u001b[0;34m(\u001b[0m\u001b[0mcommand\u001b[0m\u001b[0;34m)\u001b[0m\u001b[0;34m\u001b[0m\u001b[0;34m\u001b[0m\u001b[0m\n\u001b[0;32m-> 1322\u001b[0;31m         return_value = get_return_value(\n\u001b[0m\u001b[1;32m   1323\u001b[0m             answer, self.gateway_client, self.target_id, self.name)\n\u001b[1;32m   1324\u001b[0m \u001b[0;34m\u001b[0m\u001b[0m\n",
            "\u001b[0;32m/usr/local/lib/python3.10/dist-packages/pyspark/errors/exceptions/captured.py\u001b[0m in \u001b[0;36mdeco\u001b[0;34m(*a, **kw)\u001b[0m\n\u001b[1;32m    183\u001b[0m                 \u001b[0;31m# Hide where the exception came from that shows a non-Pythonic\u001b[0m\u001b[0;34m\u001b[0m\u001b[0;34m\u001b[0m\u001b[0m\n\u001b[1;32m    184\u001b[0m                 \u001b[0;31m# JVM exception message.\u001b[0m\u001b[0;34m\u001b[0m\u001b[0;34m\u001b[0m\u001b[0m\n\u001b[0;32m--> 185\u001b[0;31m                 \u001b[0;32mraise\u001b[0m \u001b[0mconverted\u001b[0m \u001b[0;32mfrom\u001b[0m \u001b[0;32mNone\u001b[0m\u001b[0;34m\u001b[0m\u001b[0;34m\u001b[0m\u001b[0m\n\u001b[0m\u001b[1;32m    186\u001b[0m             \u001b[0;32melse\u001b[0m\u001b[0;34m:\u001b[0m\u001b[0;34m\u001b[0m\u001b[0;34m\u001b[0m\u001b[0m\n\u001b[1;32m    187\u001b[0m                 \u001b[0;32mraise\u001b[0m\u001b[0;34m\u001b[0m\u001b[0;34m\u001b[0m\u001b[0m\n",
            "\u001b[0;31mAnalysisException\u001b[0m: [MISSING_AGGREGATION] The non-aggregating expression \"tosse\" is based on columns which are not participating in the GROUP BY clause.\nAdd the columns or the expression to the GROUP BY, aggregate the expression, or use \"any_value(tosse)\" if you do not care which of the values within a group is returned.;\nSort [sexo#2263 ASC NULLS FIRST, tosse#2273 ASC NULLS FIRST, dor_garganta#2274 ASC NULLS FIRST, dificuldade_respirar#2275 ASC NULLS FIRST, dor_cabeca#2276 ASC NULLS FIRST, dor_peito#2277 ASC NULLS FIRST, nausea#2278 ASC NULLS FIRST, fadiga#2280 ASC NULLS FIRST, dor_olhos#2281 ASC NULLS FIRST, perda_olfato_paladar#2282 ASC NULLS FIRST, dor_muscular#2283 ASC NULLS FIRST, diarreia#2284 ASC NULLS FIRST], true\n+- Aggregate [sexo#2263], [sexo#2263, tosse#2273, dor_garganta#2274, dificuldade_respirar#2275, dor_cabeca#2276, dor_peito#2277, nausea#2278, fadiga#2280, dor_olhos#2281, perda_olfato_paladar#2282, dor_muscular#2283, diarreia#2284, ((((((((((CASE WHEN (tosse#2273 = sim) THEN 1 ELSE 0 END + CASE WHEN (dor_garganta#2274 = sim) THEN 1 ELSE 0 END) + CASE WHEN (dificuldade_respirar#2275 = sim) THEN 1 ELSE 0 END) + CASE WHEN (dor_cabeca#2276 = sim) THEN 1 ELSE 0 END) + CASE WHEN (dor_peito#2277 = sim) THEN 1 ELSE 0 END) + CASE WHEN (nausea#2278 = sim) THEN 1 ELSE 0 END) + CASE WHEN (fadiga#2280 = sim) THEN 1 ELSE 0 END) + CASE WHEN (dor_olhos#2281 = sim) THEN 1 ELSE 0 END) + CASE WHEN (perda_olfato_paladar#2282 = sim) THEN 1 ELSE 0 END) + CASE WHEN (dor_muscular#2283 = sim) THEN 1 ELSE 0 END) + CASE WHEN (diarreia#2284 = sim) THEN 1 ELSE 0 END) AS total_sintomas_positivo#5168]\n   +- Filter ((((((tosse#2273 = sim) OR (dor_garganta#2274 = sim)) OR (dificuldade_respirar#2275 = sim)) OR (((dor_cabeca#2276 = sim) OR (dor_peito#2277 = sim)) OR (nausea#2278 = sim))) OR ((((fadiga#2280 = sim) OR (dor_olhos#2281 = sim)) OR (perda_olfato_paladar#2282 = sim)) OR ((dor_muscular#2283 = sim) OR (diarreia#2284 = sim)))) AND ((((NOT (tosse#2273 = ignorado) AND NOT (dor_garganta#2274 = ignorado)) AND NOT (dificuldade_respirar#2275 = ignorado)) AND ((NOT (dor_cabeca#2276 = ignorado) AND NOT (dor_peito#2277 = ignorado)) AND NOT (nausea#2278 = ignorado))) AND (((NOT (fadiga#2280 = ignorado) AND NOT (dor_olhos#2281 = ignorado)) AND NOT (perda_olfato_paladar#2282 = ignorado)) AND (NOT (dor_muscular#2283 = ignorado) AND NOT (diarreia#2284 = ignorado)))))\n      +- SubqueryAlias sintomas_sexo\n         +- View (`sintomas_sexo`, [uf#2261,idade#2262,sexo#2263,cor#2264,escolaridade#2265,ensino_publico_privado#2266,frequentou_escola#2267,tipo_moradia#2268,situacao_domiciliar#2269,rendimento#2270,restringiu_contato_fisico#2271,febre#2272,tosse#2273,dor_garganta#2274,dificuldade_respirar#2275,dor_cabeca#2276,dor_peito#2277,nausea#2278,nariz_entupido#2279,fadiga#2280,dor_olhos#2281,perda_olfato_paladar#2282,dor_muscular#2283,diarreia#2284,ida_unidade_saude#2285,hospital_publico#2286,hospital_privado#2287,posto_publico#2288,ambulatorio_privado#2289,pronto_socorro_publico#2290,pronto_socorro_privado#2291,fez_teste#2292,teste_swab#2293,resultado_swab#2294,teste_sangue_dedo#2295,resultado_sangue_dedo#2296,teste_sangue_coleta#2297,resultado_sangue_coleta#2298,diagnostico_diabetes#2299,diagnostico_hipertensao#2300,diagnostico_doenca_pulmao#2301,diagnostico_doenca_cardiaca#2302,diagnostico_depressao#2303,diagnostico_cancer#2304,afastado_trabalho#2305,motivo_do_afastamento#2306,remunerado_continua#2307,mais_de_um_trabalho#2308,tipo_trabalho#2309,horas_trabalho_normal#2310,trabalho_remoto_semana_passada#2311,regiao#2312])\n            +- Relation [uf#2261,idade#2262,sexo#2263,cor#2264,escolaridade#2265,ensino_publico_privado#2266,frequentou_escola#2267,tipo_moradia#2268,situacao_domiciliar#2269,rendimento#2270,restringiu_contato_fisico#2271,febre#2272,tosse#2273,dor_garganta#2274,dificuldade_respirar#2275,dor_cabeca#2276,dor_peito#2277,nausea#2278,nariz_entupido#2279,fadiga#2280,dor_olhos#2281,perda_olfato_paladar#2282,dor_muscular#2283,diarreia#2284,... 28 more fields] csv\n"
          ]
        }
      ]
    },
    {
      "cell_type": "code",
      "source": [
        "# escolaridade por região\n",
        "df.createOrReplaceTempView('escolaridade_regiao')\n",
        "\n",
        "escolaridade_regiao = spark.sql('''\n",
        "    SELECT regiao, escolaridade, count(*) as total_respostas\n",
        "    FROM escolaridade_regiao\n",
        "    GROUP BY regiao, escolaridade\n",
        "    ORDER BY regiao, escolaridade\n",
        "''')\n",
        "\n",
        "escolaridade_regiao.show()"
      ],
      "metadata": {
        "colab": {
          "base_uri": "https://localhost:8080/"
        },
        "id": "YEEAy-oOXH4T",
        "outputId": "c22275ad-ee6f-492d-f0a0-54b108d88dc7"
      },
      "execution_count": 62,
      "outputs": [
        {
          "output_type": "stream",
          "name": "stdout",
          "text": [
            "+------------+--------------------+---------------+\n",
            "|      regiao|        escolaridade|total_respostas|\n",
            "+------------+--------------------+---------------+\n",
            "|centro-oeste|fundamental completa|           7540|\n",
            "|centro-oeste|fundamental incom...|          39172|\n",
            "|centro-oeste|      medio completo|          25668|\n",
            "|centro-oeste|    medio incompleto|          12094|\n",
            "|centro-oeste|pos mestrado dout...|           3995|\n",
            "|centro-oeste|       sem instrucao|          12370|\n",
            "|centro-oeste|   superior completo|          14045|\n",
            "|centro-oeste| superior incompleto|           7589|\n",
            "|    nordeste|fundamental completa|          18387|\n",
            "|    nordeste|fundamental incom...|         133740|\n",
            "|    nordeste|      medio completo|          72196|\n",
            "|    nordeste|    medio incompleto|          34036|\n",
            "|    nordeste|pos mestrado dout...|           6150|\n",
            "|    nordeste|       sem instrucao|          49540|\n",
            "|    nordeste|   superior completo|          22558|\n",
            "|    nordeste| superior incompleto|          14292|\n",
            "|       norte|fundamental completa|           7476|\n",
            "|       norte|fundamental incom...|          47138|\n",
            "|       norte|      medio completo|          33874|\n",
            "|       norte|    medio incompleto|          15126|\n",
            "+------------+--------------------+---------------+\n",
            "only showing top 20 rows\n",
            "\n"
          ]
        }
      ]
    },
    {
      "cell_type": "code",
      "source": [
        "# moradis por região\n",
        "df.createOrReplaceTempView('moradia_regiao')\n",
        "\n",
        "moradia_regiao = spark.sql('''\n",
        "    SELECT regiao, tipo_moradia, count(*) as total_respostas\n",
        "    FROM moradia_regiao\n",
        "    GROUP BY regiao, tipo_moradia\n",
        "    ORDER BY regiao, tipo_moradia\n",
        "''')\n",
        "\n",
        "moradia_regiao.show()"
      ],
      "metadata": {
        "colab": {
          "base_uri": "https://localhost:8080/"
        },
        "id": "yVZ_l2Y3Yj2_",
        "outputId": "77a62e81-2b9f-46d4-ec7b-d4c23d620de9"
      },
      "execution_count": 63,
      "outputs": [
        {
          "output_type": "stream",
          "name": "stdout",
          "text": [
            "+------------+--------------------+---------------+\n",
            "|      regiao|        tipo_moradia|total_respostas|\n",
            "+------------+--------------------+---------------+\n",
            "|centro-oeste|             alugado|          23454|\n",
            "|centro-oeste|cedido de outra f...|           1600|\n",
            "|centro-oeste|cedido por empreg...|           5802|\n",
            "|centro-oeste|cedido por familiar |           9905|\n",
            "|centro-oeste|      outra condicao|            370|\n",
            "|centro-oeste|proprio_ainda pag...|          10448|\n",
            "|centro-oeste|    proprio_ja pago |          70894|\n",
            "|    nordeste|             alugado|          39577|\n",
            "|    nordeste|cedido de outra f...|           4345|\n",
            "|    nordeste|cedido por empreg...|           3686|\n",
            "|    nordeste|cedido por familiar |          29082|\n",
            "|    nordeste|      outra condicao|           1324|\n",
            "|    nordeste|proprio_ainda pag...|          12012|\n",
            "|    nordeste|    proprio_ja pago |         260873|\n",
            "|       norte|             alugado|          16416|\n",
            "|       norte|cedido de outra f...|           1230|\n",
            "|       norte|cedido por empreg...|           2779|\n",
            "|       norte|cedido por familiar |          10659|\n",
            "|       norte|      outra condicao|            313|\n",
            "|       norte|proprio_ainda pag...|           4421|\n",
            "+------------+--------------------+---------------+\n",
            "only showing top 20 rows\n",
            "\n"
          ]
        }
      ]
    },
    {
      "cell_type": "code",
      "source": [
        "df.createOrReplaceTempView('percentual_horas_trabalho')\n",
        "\n",
        "percentual_horas_trabalho = spark.sql('''\n",
        "    SELECT uf,\n",
        "        ROUND((SUM(CASE WHEN horas_trabalho_normal > 0 THEN 1 ELSE 0 END) / COUNT(*)) * 100, 2) as percentual_horas_trabalho\n",
        "    FROM percentual_horas_trabalho\n",
        "    GROUP BY uf\n",
        "    ORDER BY uf\n",
        "''')\n",
        "\n",
        "percentual_horas_trabalho.show()"
      ],
      "metadata": {
        "colab": {
          "base_uri": "https://localhost:8080/"
        },
        "id": "ZAO494kFe2nS",
        "outputId": "aabfbf3f-d55f-41e0-ae78-4efa2541b3e4"
      },
      "execution_count": 90,
      "outputs": [
        {
          "output_type": "stream",
          "name": "stdout",
          "text": [
            "+-------------------+-------------------------+\n",
            "|                 uf|percentual_horas_trabalho|\n",
            "+-------------------+-------------------------+\n",
            "|               acre|                    32.75|\n",
            "|            alagoas|                    26.42|\n",
            "|              amapa|                    33.66|\n",
            "|           amazonas|                    33.91|\n",
            "|              bahia|                    32.23|\n",
            "|              ceara|                    29.68|\n",
            "|   distrito federal|                    41.27|\n",
            "|     espirito santo|                    42.37|\n",
            "|              goias|                    43.62|\n",
            "|           maranhao|                    27.15|\n",
            "|        mato grosso|                    43.86|\n",
            "| mato grosso do sul|                    44.61|\n",
            "|       minas gerais|                    40.82|\n",
            "|               para|                    35.61|\n",
            "|            paraiba|                    30.78|\n",
            "|             parana|                    45.23|\n",
            "|         pernambuco|                    32.34|\n",
            "|              piaui|                    30.36|\n",
            "|     rio de janeiro|                    37.11|\n",
            "|rio grande do norte|                    31.63|\n",
            "+-------------------+-------------------------+\n",
            "only showing top 20 rows\n",
            "\n"
          ]
        }
      ]
    },
    {
      "cell_type": "code",
      "source": [
        "df.createOrReplaceTempView('afastamento')\n",
        "\n",
        "afastamento = spark.sql('''\n",
        "    SELECT regiao, afastado_trabalho, motivo_do_afastamento\n",
        "    FROM afastamento\n",
        "      WHERE afastado_trabalho != 'nao aplicavel'\n",
        "    GROUP BY regiao, afastado_trabalho,motivo_do_afastamento\n",
        "    ORDER BY regiao, afastado_trabalho, motivo_do_afastamento\n",
        "''')\n",
        "\n",
        "afastamento.show()"
      ],
      "metadata": {
        "colab": {
          "base_uri": "https://localhost:8080/"
        },
        "id": "C6v2i3JsgVNy",
        "outputId": "02c9cbb9-2d82-4d43-b176-2b1f3db41b42"
      },
      "execution_count": 93,
      "outputs": [
        {
          "output_type": "stream",
          "name": "stdout",
          "text": [
            "+------------+-----------------+---------------------+\n",
            "|      regiao|afastado_trabalho|motivo_do_afastamento|\n",
            "+------------+-----------------+---------------------+\n",
            "|centro-oeste|              nao|        nao aplicavel|\n",
            "|centro-oeste|              sim| afastamento sem s...|\n",
            "|centro-oeste|              sim|   fatores ocasionais|\n",
            "|centro-oeste|              sim| ferias ou jornada...|\n",
            "|centro-oeste|              sim| maternidade ou pa...|\n",
            "|centro-oeste|              sim|         outro motivo|\n",
            "|centro-oeste|              sim| outro tipo de lic...|\n",
            "|centro-oeste|              sim| quarentena ou fer...|\n",
            "|centro-oeste|              sim| saude ou acidente...|\n",
            "|    nordeste|              nao|        nao aplicavel|\n",
            "|    nordeste|              sim| afastamento sem s...|\n",
            "|    nordeste|              sim|   fatores ocasionais|\n",
            "|    nordeste|              sim| ferias ou jornada...|\n",
            "|    nordeste|              sim| maternidade ou pa...|\n",
            "|    nordeste|              sim|         outro motivo|\n",
            "|    nordeste|              sim| outro tipo de lic...|\n",
            "|    nordeste|              sim| quarentena ou fer...|\n",
            "|    nordeste|              sim| saude ou acidente...|\n",
            "|       norte|              nao|        nao aplicavel|\n",
            "|       norte|              sim| afastamento sem s...|\n",
            "+------------+-----------------+---------------------+\n",
            "only showing top 20 rows\n",
            "\n"
          ]
        }
      ]
    },
    {
      "cell_type": "code",
      "source": [
        "df.createOrReplaceTempView('rendimento_regiao')\n",
        "\n",
        "rendimento_regiao = spark.sql('''\n",
        "    SELECT regiao, rendimento\n",
        "    FROM rendimento_regiao\n",
        "    GROUP BY regiao, rendimento\n",
        "    ORDER BY regiao, rendimento\n",
        "''')\n",
        "\n",
        "rendimento_regiao.show()"
      ],
      "metadata": {
        "colab": {
          "base_uri": "https://localhost:8080/"
        },
        "id": "KTLOK94OgwMM",
        "outputId": "52f1a177-40ad-4a75-c754-7057ce66f913"
      },
      "execution_count": 95,
      "outputs": [
        {
          "output_type": "stream",
          "name": "stdout",
          "text": [
            "+------------+----------------+\n",
            "|      regiao|      rendimento|\n",
            "+------------+----------------+\n",
            "|centro-oeste|         0 a 100|\n",
            "|centro-oeste|   1.601 a 3.000|\n",
            "|centro-oeste| 10.001 a 50.000|\n",
            "|centro-oeste|       101 a 300|\n",
            "|centro-oeste|  3.001 a 10.000|\n",
            "|centro-oeste|       301 a 600|\n",
            "|centro-oeste|50.001 a 100.000|\n",
            "|centro-oeste|       601 a 800|\n",
            "|centro-oeste|     801 a 1.600|\n",
            "|centro-oeste| mais de 100.000|\n",
            "|centro-oeste|   nao aplicavel|\n",
            "|    nordeste|         0 a 100|\n",
            "|    nordeste|   1.601 a 3.000|\n",
            "|    nordeste| 10.001 a 50.000|\n",
            "|    nordeste|       101 a 300|\n",
            "|    nordeste|  3.001 a 10.000|\n",
            "|    nordeste|       301 a 600|\n",
            "|    nordeste|50.001 a 100.000|\n",
            "|    nordeste|       601 a 800|\n",
            "|    nordeste|     801 a 1.600|\n",
            "+------------+----------------+\n",
            "only showing top 20 rows\n",
            "\n"
          ]
        }
      ]
    },
    {
      "cell_type": "code",
      "source": [
        "df.createOrReplaceTempView('restringiu_contato_regiao')\n",
        "\n",
        "restringiu_contato_regiao= spark.sql('''\n",
        "    SELECT regiao, restringiu_contato_fisico, count(*) as total\n",
        "    FROM restringiu_contato_fisico\n",
        "    GROUP BY regiao, restringiu_contato_fisico\n",
        "    ORDER BY regiao, restringiu_contato_fisico\n",
        "''')\n",
        "\n",
        "restringiu_contato_regiao.show()"
      ],
      "metadata": {
        "colab": {
          "base_uri": "https://localhost:8080/"
        },
        "id": "XiOWtp1DiQWY",
        "outputId": "4abf2867-2c2d-4fca-e319-c59aa68b68d4"
      },
      "execution_count": 98,
      "outputs": [
        {
          "output_type": "stream",
          "name": "stdout",
          "text": [
            "+------------+-------------------------+------+\n",
            "|      regiao|restringiu_contato_fisico| total|\n",
            "+------------+-------------------------+------+\n",
            "|centro-oeste|     ficou somente em ...| 15799|\n",
            "|centro-oeste|            nao aplicavel|   759|\n",
            "|centro-oeste|        reduziu o contato| 55568|\n",
            "|centro-oeste|            sem restricao|  4272|\n",
            "|centro-oeste|     so saiu para nece...| 46075|\n",
            "|    nordeste|     ficou somente em ...| 53210|\n",
            "|    nordeste|            nao aplicavel|  1193|\n",
            "|    nordeste|        reduziu o contato|130390|\n",
            "|    nordeste|            sem restricao| 16720|\n",
            "|    nordeste|     so saiu para nece...|149386|\n",
            "|       norte|     ficou somente em ...| 16718|\n",
            "|       norte|            nao aplicavel|  1129|\n",
            "|       norte|        reduziu o contato| 64342|\n",
            "|       norte|            sem restricao|  8298|\n",
            "|       norte|     so saiu para nece...| 51885|\n",
            "|     sudeste|     ficou somente em ...| 41275|\n",
            "|     sudeste|            nao aplicavel|  1250|\n",
            "|     sudeste|        reduziu o contato|142480|\n",
            "|     sudeste|            sem restricao| 12312|\n",
            "|     sudeste|     so saiu para nece...|138716|\n",
            "+------------+-------------------------+------+\n",
            "only showing top 20 rows\n",
            "\n"
          ]
        }
      ]
    },
    {
      "cell_type": "code",
      "source": [
        "df.createOrReplaceTempView('restringiu_contato_moradia')\n",
        "\n",
        "restringiu_contato_moradia= spark.sql('''\n",
        "    SELECT situacao_domiciliar, restringiu_contato_fisico, count(*) as total\n",
        "    FROM restringiu_contato_fisico\n",
        "    GROUP BY situacao_domiciliar, restringiu_contato_fisico\n",
        "    ORDER BY situacao_domiciliar, restringiu_contato_fisico\n",
        "''')\n",
        "\n",
        "restringiu_contato_moradia.show()"
      ],
      "metadata": {
        "colab": {
          "base_uri": "https://localhost:8080/"
        },
        "id": "n0LFSbBOinID",
        "outputId": "4f3a4fe3-03de-473d-db6d-7b87d322dbc7"
      },
      "execution_count": 99,
      "outputs": [
        {
          "output_type": "stream",
          "name": "stdout",
          "text": [
            "+-------------------+-------------------------+------+\n",
            "|situacao_domiciliar|restringiu_contato_fisico| total|\n",
            "+-------------------+-------------------------+------+\n",
            "|              rural|     ficou somente em ...| 42549|\n",
            "|              rural|            nao aplicavel|   898|\n",
            "|              rural|        reduziu o contato|100583|\n",
            "|              rural|            sem restricao| 11106|\n",
            "|              rural|     so saiu para nece...|118861|\n",
            "|             urbana|     ficou somente em ...|112044|\n",
            "|             urbana|            nao aplicavel|  4049|\n",
            "|             urbana|        reduziu o contato|383930|\n",
            "|             urbana|            sem restricao| 35088|\n",
            "|             urbana|     so saiu para nece...|340089|\n",
            "+-------------------+-------------------------+------+\n",
            "\n"
          ]
        }
      ]
    },
    {
      "cell_type": "code",
      "source": [
        "df.createOrReplaceTempView('remunerado')\n",
        "\n",
        "remunerado= spark.sql('''\n",
        "    SELECT regiao, remunerado_continua, count(*) as total_remunerado\n",
        "    FROM remunerado\n",
        "    GROUP BY regiao, remunerado_continua\n",
        "    ORDER BY regiao, remunerado_continua\n",
        "''')\n",
        "\n",
        "remunerado.show()"
      ],
      "metadata": {
        "colab": {
          "base_uri": "https://localhost:8080/"
        },
        "id": "ZvJQ_fWzjt_N",
        "outputId": "e220d0fe-1862-4ad8-b9b1-04b1e78c3acd"
      },
      "execution_count": 102,
      "outputs": [
        {
          "output_type": "stream",
          "name": "stdout",
          "text": [
            "+------------+-------------------+----------------+\n",
            "|      regiao|remunerado_continua|total_remunerado|\n",
            "+------------+-------------------+----------------+\n",
            "|centro-oeste|                nao|            1233|\n",
            "|centro-oeste|      nao aplicavel|          120113|\n",
            "|centro-oeste|     nao remunerado|              14|\n",
            "|centro-oeste|                sim|            1113|\n",
            "|    nordeste|                nao|            4339|\n",
            "|    nordeste|      nao aplicavel|          343269|\n",
            "|    nordeste|     nao remunerado|              92|\n",
            "|    nordeste|                sim|            3199|\n",
            "|       norte|                nao|            1576|\n",
            "|       norte|      nao aplicavel|          138678|\n",
            "|       norte|     nao remunerado|              35|\n",
            "|       norte|                sim|            2083|\n",
            "|     sudeste|                nao|            5134|\n",
            "|     sudeste|      nao aplicavel|          327264|\n",
            "|     sudeste|     nao remunerado|              53|\n",
            "|     sudeste|                sim|            3582|\n",
            "|         sul|                nao|            1802|\n",
            "|         sul|      nao aplicavel|          193829|\n",
            "|         sul|     nao remunerado|              28|\n",
            "|         sul|                sim|            1761|\n",
            "+------------+-------------------+----------------+\n",
            "\n"
          ]
        }
      ]
    },
    {
      "cell_type": "code",
      "source": [
        "df.createOrReplaceTempView('tipo_moradia_remunerado')\n",
        "\n",
        "tipo_moradia_remunerado= spark.sql('''\n",
        "    SELECT tipo_moradia, remunerado_continua, count(*) as total_remunerado\n",
        "    FROM remunerado\n",
        "    GROUP BY tipo_moradia, remunerado_continua\n",
        "    ORDER BY tipo_moradia, remunerado_continua\n",
        "''')\n",
        "\n",
        "tipo_moradia_remunerado.show()"
      ],
      "metadata": {
        "colab": {
          "base_uri": "https://localhost:8080/"
        },
        "id": "nhKM9ac0nWYC",
        "outputId": "a9e61092-d578-4b17-e56f-06a4773cbba9"
      },
      "execution_count": 108,
      "outputs": [
        {
          "output_type": "stream",
          "name": "stdout",
          "text": [
            "+--------------------+-------------------+----------------+\n",
            "|        tipo_moradia|remunerado_continua|total_remunerado|\n",
            "+--------------------+-------------------+----------------+\n",
            "|             alugado|                nao|            2089|\n",
            "|             alugado|      nao aplicavel|          157530|\n",
            "|             alugado|     nao remunerado|              12|\n",
            "|             alugado|                sim|            1517|\n",
            "|cedido de outra f...|                nao|             167|\n",
            "|cedido de outra f...|      nao aplicavel|           12077|\n",
            "|cedido de outra f...|     nao remunerado|               1|\n",
            "|cedido de outra f...|                sim|              70|\n",
            "|cedido por empreg...|                nao|             106|\n",
            "|cedido por empreg...|      nao aplicavel|           25119|\n",
            "|cedido por empreg...|                sim|              71|\n",
            "|cedido por familiar |                nao|            1483|\n",
            "|cedido por familiar |      nao aplicavel|           94463|\n",
            "|cedido por familiar |     nao remunerado|              14|\n",
            "|cedido por familiar |                sim|             896|\n",
            "|      outra condicao|                nao|              60|\n",
            "|      outra condicao|      nao aplicavel|            3738|\n",
            "|      outra condicao|                sim|              23|\n",
            "|proprio_ainda pag...|                nao|             634|\n",
            "|proprio_ainda pag...|      nao aplicavel|           65057|\n",
            "+--------------------+-------------------+----------------+\n",
            "only showing top 20 rows\n",
            "\n"
          ]
        }
      ]
    },
    {
      "cell_type": "code",
      "source": [
        "df.createOrReplaceTempView('afastamento_remunerado')\n",
        "\n",
        "afastamento_remunerado= spark.sql('''\n",
        "    SELECT motivo_do_afastamento, afastado_trabalho, remunerado_continua, count(*) as total_remunerado\n",
        "    FROM remunerado\n",
        "    GROUP BY motivo_do_afastamento, afastado_trabalho, remunerado_continua\n",
        "    ORDER BY motivo_do_afastamento, afastado_trabalho, remunerado_continua\n",
        "''')\n",
        "\n",
        "afastamento_remunerado.show()"
      ],
      "metadata": {
        "colab": {
          "base_uri": "https://localhost:8080/"
        },
        "id": "xOee0gMzj_Sz",
        "outputId": "e492fbd2-b13b-420c-e1a7-d843389af66c"
      },
      "execution_count": 107,
      "outputs": [
        {
          "output_type": "stream",
          "name": "stdout",
          "text": [
            "+---------------------+-----------------+-------------------+----------------+\n",
            "|motivo_do_afastamento|afastado_trabalho|remunerado_continua|total_remunerado|\n",
            "+---------------------+-----------------+-------------------+----------------+\n",
            "| afastamento sem s...|              sim|      nao aplicavel|            2476|\n",
            "|   fatores ocasionais|              sim|      nao aplicavel|            1061|\n",
            "| ferias ou jornada...|              sim|      nao aplicavel|            3561|\n",
            "| maternidade ou pa...|              sim|      nao aplicavel|            1320|\n",
            "|        nao aplicavel|              nao|      nao aplicavel|          482711|\n",
            "|        nao aplicavel|    nao aplicavel|      nao aplicavel|          624881|\n",
            "|         outro motivo|              sim|      nao aplicavel|            2226|\n",
            "| outro tipo de lic...|              sim|      nao aplicavel|             428|\n",
            "| quarentena ou fer...|              sim|                nao|           14084|\n",
            "| quarentena ou fer...|              sim|     nao remunerado|             222|\n",
            "| quarentena ou fer...|              sim|                sim|           11738|\n",
            "| saude ou acidente...|              sim|      nao aplicavel|            4489|\n",
            "+---------------------+-----------------+-------------------+----------------+\n",
            "\n"
          ]
        }
      ]
    }
  ]
}